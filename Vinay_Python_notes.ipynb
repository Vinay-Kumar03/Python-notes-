{
  "nbformat": 4,
  "nbformat_minor": 0,
  "metadata": {
    "colab": {
      "provenance": [],
      "include_colab_link": true
    },
    "kernelspec": {
      "name": "python3",
      "display_name": "Python 3"
    },
    "language_info": {
      "name": "python"
    }
  },
  "cells": [
    {
      "cell_type": "markdown",
      "metadata": {
        "id": "view-in-github",
        "colab_type": "text"
      },
      "source": [
        "<a href=\"https://colab.research.google.com/github/Vinay-Kumar03/Python-notes-/blob/main/Vinay_Python_notes.ipynb\" target=\"_parent\"><img src=\"https://colab.research.google.com/assets/colab-badge.svg\" alt=\"Open In Colab\"/></a>"
      ]
    },
    {
      "cell_type": "markdown",
      "source": [
        "MODULE 1"
      ],
      "metadata": {
        "id": "X03m3bQRJ5AR"
      }
    },
    {
      "cell_type": "code",
      "source": [
        "\"\"\"what is python?\n",
        "emerging general-purpose programming language\n",
        "high-level programming language\n",
        "object oriented programming language-->OOP’s\n",
        "Dynamically typed programming language\n",
        "interpreted programming language\"\"\""
      ],
      "metadata": {
        "id": "X4oZZX-fNju4"
      },
      "execution_count": null,
      "outputs": []
    },
    {
      "cell_type": "code",
      "source": [
        "\"\"\"what is an emerging general-purpose programming language?\n",
        "1.The main purpose of python programming language is  to handle tons of data, & AI development\n",
        "2.also we can web development, mobile application development\n",
        "3.apart from above usage we can use it for daily general works\n",
        "    for ex:- ISRO scientist use python language for physics calculation\n",
        "                    for Tracking stocks\n",
        "                     image processing \"\"\""
      ],
      "metadata": {
        "id": "qqDuLsQiNmfi"
      },
      "execution_count": null,
      "outputs": []
    },
    {
      "cell_type": "markdown",
      "source": [
        "Numerical Dtypes in Python"
      ],
      "metadata": {
        "id": "ShlaQ5XuNzbn"
      }
    },
    {
      "cell_type": "code",
      "source": [
        "#there are 3 types of numerical dtypes\n",
        "#1.integer---> int\n",
        "#a whole number either +ve or -ve without decimal point is known integer\n",
        "print(10)\n",
        "print(5)\n",
        "print(-5)\n",
        "#find the dtype for above\n",
        "#use \"type()\"\n",
        "print(type(10))\n",
        "print(type(-5))"
      ],
      "metadata": {
        "id": "9yWMepZ4NsmA"
      },
      "execution_count": null,
      "outputs": []
    },
    {
      "cell_type": "code",
      "source": [
        "#flaot:- a whole number either +ve or -ve with decimal point is known float\n",
        "print(10.5)\n",
        "print(5.5)\n",
        "print(-6.5)\n",
        "print(type(10.5))\n",
        "print(type(-6.5))"
      ],
      "metadata": {
        "id": "mO4g8vXYNv4L"
      },
      "execution_count": null,
      "outputs": []
    },
    {
      "cell_type": "code",
      "source": [
        "#0-->int\n",
        "#0.0-->float\n",
        "#2.0-->float\n",
        "#.9--> float\n",
        "#-0--->float"
      ],
      "metadata": {
        "id": "eZ-bVf2CNwW4"
      },
      "execution_count": null,
      "outputs": []
    },
    {
      "cell_type": "code",
      "source": [
        "#3.complex numnbers:- ---> complex\n",
        "#a real number withits imaginary part is known as complex number\n",
        "# 3x+4y = 6        ---->  2 + 4j\n",
        "#what is \"j\"?\n",
        "# j is known as \"iota\" the value of iota is root -1\n",
        "print(2 + 5j)\n",
        "print(type(2+5j))\n",
        "print(5j)\n",
        "print(type(5j))"
      ],
      "metadata": {
        "id": "SLK4c8fVNsxM"
      },
      "execution_count": null,
      "outputs": []
    },
    {
      "cell_type": "markdown",
      "source": [
        "Arthmetic operators"
      ],
      "metadata": {
        "id": "uIo5cPvwOYBN"
      }
    },
    {
      "cell_type": "code",
      "source": [
        "#There are 7 types of arthametic operators\n",
        "#1.addition---> +\n",
        "print(10 + 5)\n",
        "#2.substraction---> -\n",
        "print(10 - 5)\n",
        "#3.multiplication---> *\n",
        "print(10 * 5)\n",
        "#4.division---> /\n",
        "print(10 / 5)\n",
        "print(type(10 / 5))\n",
        "#why the default dtype for division is float?\n",
        "\"\"\"somnetimes in division operation we may get decimal values in co-efficient to\n",
        "avoid this confusion by default the dtype"
      ],
      "metadata": {
        "id": "dnsbW8FyNs7w"
      },
      "execution_count": null,
      "outputs": []
    },
    {
      "cell_type": "code",
      "source": [
        "#5. Modulus---> %---> remainder of the division\n",
        "print(10 % 5)\n",
        "print(type(10 % 5))"
      ],
      "metadata": {
        "id": "iQFp6aWcNtEz"
      },
      "execution_count": null,
      "outputs": []
    },
    {
      "cell_type": "code",
      "source": [
        "#6. exponential--> ** --> to the power off\n",
        "print(2 ** 3)\n",
        "print(type(2**3))\n",
        "print(1**5)\n",
        "print(3 ** 2)"
      ],
      "metadata": {
        "id": "DU6iZc06Nt-7"
      },
      "execution_count": null,
      "outputs": []
    },
    {
      "cell_type": "code",
      "source": [
        "#floor division:----> //\n",
        "#it ignores the values after the decimal point\n",
        "print(10 / 3)\n",
        "print(10 // 3)"
      ],
      "metadata": {
        "id": "JcSZRaSvNus0"
      },
      "execution_count": null,
      "outputs": []
    },
    {
      "cell_type": "code",
      "source": [
        "#what is a floor value?\n",
        "#The vale before the decimal point is known as \"floor value\"\n",
        "#what is a ceil value?\n",
        "#the next upcoimng value or nearest value to the decimal number is known as ceil value\n",
        "#Note:- if the decimal number is equal to >.5 or"
      ],
      "metadata": {
        "id": "DH4i0_lyOrIS"
      },
      "execution_count": null,
      "outputs": []
    },
    {
      "cell_type": "markdown",
      "source": [
        "round()"
      ],
      "metadata": {
        "id": "79F13N4qOviT"
      }
    },
    {
      "cell_type": "code",
      "source": [
        "#987.542312\n",
        "print(round(6.45))\n",
        "#NOte:- if the decimal value is <.5 then"
      ],
      "metadata": {
        "id": "JfSnCD1EOsUL"
      },
      "execution_count": null,
      "outputs": []
    },
    {
      "cell_type": "code",
      "source": [
        "#i want to print 1st 2 ndigits from below number\n",
        "#round(number,ndigits)\n",
        "print(round(987.542312,2))\n",
        "print(round(987.542312,3))"
      ],
      "metadata": {
        "id": "e98hHyLeO1RW"
      },
      "execution_count": null,
      "outputs": []
    },
    {
      "cell_type": "code",
      "source": [
        "print(round(789.645749,4))   #65, #6"
      ],
      "metadata": {
        "id": "EYA6XNvpO1mL"
      },
      "execution_count": null,
      "outputs": []
    },
    {
      "cell_type": "code",
      "source": [
        "print(round(12355.98765,-5))\n",
        "#when you use the -1 ndigit it ignores"
      ],
      "metadata": {
        "id": "Zst-Ov0fO10F"
      },
      "execution_count": null,
      "outputs": []
    },
    {
      "cell_type": "code",
      "source": [
        "print(round(-12567.987, -3)) #-13000\n",
        "print(round(-089.987,-1))\n",
        "-090\n",
        "-90\n",
        "-9\n",
        "error"
      ],
      "metadata": {
        "id": "H_sYD9_4PF67"
      },
      "execution_count": null,
      "outputs": []
    },
    {
      "cell_type": "code",
      "source": [
        "print(round(67435.7854,-5))"
      ],
      "metadata": {
        "id": "ym6VELDbO2AO"
      },
      "execution_count": null,
      "outputs": []
    },
    {
      "cell_type": "markdown",
      "source": [
        "Variables"
      ],
      "metadata": {
        "id": "znamiNkLPQt4"
      }
    },
    {
      "cell_type": "code",
      "source": [
        "#what is varaibles?\n",
        "#varaible is a container where we can store our value data or information and reuse it\n",
        "#how can we create a varaible?\n",
        "\"\"\"let the father age is x and\n",
        "son age is half of father age\n",
        "find the son age x/2\"\"\"\n",
        "#How can we access the information from the varaible?\n",
        "#by using print() we can display data storing the varaible\n",
        "#take two varaibles and apply all the arthamatic operations?\n",
        "a = 10\n",
        "b = 20\n",
        "print(a+b)\n",
        "print(a-b)\n",
        "print(a*b)\n",
        "print(b/a)\n",
        "print(b%a)\n",
        "print(b**a)\n",
        "print(b//a)"
      ],
      "metadata": {
        "id": "FkYl7d3mPGHb"
      },
      "execution_count": null,
      "outputs": []
    },
    {
      "cell_type": "markdown",
      "source": [
        "06-07-2024\n",
        "\n",
        "Types of erros\n",
        "\n",
        "industrial rules followed to create a varaible\n",
        "\n",
        "smart ways of writing varaibles\n",
        "\n",
        "input()"
      ],
      "metadata": {
        "id": "ynMeqrMUPaZb"
      }
    },
    {
      "cell_type": "code",
      "source": [
        "#Types of erros\n",
        "#1. Syntax error:- Breaking the rules of programming language can rise an syntax error\n",
        "\"\"\" hi\n",
        "      i am writing a multiline comment \"\"\""
      ],
      "metadata": {
        "id": "YMpYGtdaPWcJ"
      },
      "execution_count": null,
      "outputs": []
    },
    {
      "cell_type": "code",
      "source": [
        "#2.Logical error:- except syntax error all the errors comes under logical error\n",
        "#indentation error, attribute error, Name"
      ],
      "metadata": {
        "id": "cYMFisojPWp6"
      },
      "execution_count": null,
      "outputs": []
    },
    {
      "cell_type": "markdown",
      "source": [
        "industrial rules followed to create a varaible"
      ],
      "metadata": {
        "id": "9c5ZuGGfPl1e"
      }
    },
    {
      "cell_type": "code",
      "source": [
        "1.start creating the varibles by using alphabets\n",
        "a = \"hello wolrd!\"\n",
        "print(a)\n",
        "print(type(a))"
      ],
      "metadata": {
        "id": "qgzxlH41PW3j"
      },
      "execution_count": null,
      "outputs": []
    },
    {
      "cell_type": "code",
      "source": [
        "#2. dont start creating the varible by using the numbers\n",
        "4 = \"hello\"\n",
        "print(4)"
      ],
      "metadata": {
        "id": "f4eNH9TYPXCS"
      },
      "execution_count": null,
      "outputs": []
    },
    {
      "cell_type": "code",
      "source": [
        "#3.if you follow rule 1 and 2 u can start creating varaible by alphabets inbetween you can use number\n",
        "son2age = 20\n",
        "print(son2age)"
      ],
      "metadata": {
        "id": "Zlg7jiS9PXR8"
      },
      "execution_count": null,
      "outputs": []
    },
    {
      "cell_type": "code",
      "source": [
        "#4.we cannot use special characters in the varaibles\n",
        "# @$%^&*-\n",
        "son@age = 40\n",
        "print(son@age)"
      ],
      "metadata": {
        "id": "bcijQwrvPyQ2"
      },
      "execution_count": null,
      "outputs": []
    },
    {
      "cell_type": "code",
      "source": [
        "#5.we cannot use space in between varaibles\n",
        "a b = 10 20\n",
        "print(a b)"
      ],
      "metadata": {
        "id": "1aJmbzOXPy9O"
      },
      "execution_count": null,
      "outputs": []
    },
    {
      "cell_type": "code",
      "source": [
        "#6. we can use _ as a varaible\n",
        "son_age = 20\n",
        "print(son_age)\n",
        "_ = \"hello\"\n",
        "print(_)"
      ],
      "metadata": {
        "id": "kwl0E2zoP1zX"
      },
      "execution_count": null,
      "outputs": []
    },
    {
      "cell_type": "markdown",
      "source": [
        "smart ways of wrirng a varaible"
      ],
      "metadata": {
        "id": "r_zmQe-dP8Dl"
      }
    },
    {
      "cell_type": "code",
      "source": [
        "#1.assign multiple values to multiple varaibles and print it in a seprate line\n",
        "#for ex:- take 3 varaibles x,y,z\n",
        "x = 10\n",
        "y = 20\n",
        "z = 30\n",
        "print(x)\n",
        "print(y)\n",
        "print(z)"
      ],
      "metadata": {
        "id": "AEip8CCQP4qZ"
      },
      "execution_count": null,
      "outputs": []
    },
    {
      "cell_type": "code",
      "source": [
        "x,y,z = 10,20,30\n",
        "#use the \"sep\" keyword to print output in separate lines\n",
        "print(x,y,z,sep=\"\\n\")"
      ],
      "metadata": {
        "id": "xaFH_2IIP41c"
      },
      "execution_count": null,
      "outputs": []
    },
    {
      "cell_type": "code",
      "source": [
        "#assign a single value to the multiple varaibles and print in separate line\n",
        "#take 3 varaibles x,y,z and assign same values to it\n",
        "x = 10\n",
        "y = 10\n",
        "z = 10\n",
        "print(x,y,z,sep=\"\\n\")"
      ],
      "metadata": {
        "id": "_XdtiMX9QCuI"
      },
      "execution_count": null,
      "outputs": []
    },
    {
      "cell_type": "code",
      "source": [
        "x=y=z= 10\n",
        "print(x,y,z,sep=\"\\n\")"
      ],
      "metadata": {
        "id": "s8bwwoTMQC31"
      },
      "execution_count": null,
      "outputs": []
    },
    {
      "cell_type": "code",
      "source": [
        "#prove that python is an dynamically typed prgramming language?\n",
        "#  str[a]  = \"hello world!\" , int(a) = 10--->statically typed programming language\n",
        "# a = \"hello wolrd\", a = 10\n",
        "#the python varaible can read the data automatically by itself\n",
        "s = \"hello world!\"\n",
        "print(s)\n",
        "print(type(s))\n",
        "h = 10\n",
        "print(type(h))"
      ],
      "metadata": {
        "id": "VII7R1u1QDCm"
      },
      "execution_count": null,
      "outputs": []
    },
    {
      "cell_type": "code",
      "source": [
        "#python is an interpreted programming language?\n",
        "#python can execute the code line by line\n",
        "a = 10\n",
        "b = 5\n",
        "a = 2\n",
        "b = 3\n",
        "print(a*b)"
      ],
      "metadata": {
        "id": "RERY_MVVQOrL"
      },
      "execution_count": null,
      "outputs": []
    },
    {
      "cell_type": "code",
      "source": [
        "#python is an case sensitive programming language?\n",
        "h = \"hello\"\n",
        "print(H)"
      ],
      "metadata": {
        "id": "TyUlVT5NQN7O"
      },
      "execution_count": null,
      "outputs": []
    },
    {
      "cell_type": "markdown",
      "source": [
        "input()"
      ],
      "metadata": {
        "id": "tXD__Yw5Qd40"
      }
    },
    {
      "cell_type": "code",
      "source": [
        "#what is an input()?\n",
        "#it intakes any kind of information or data and reuse it\n",
        "a = input(\"enter your name: \")\n",
        "print(a)\n",
        "print(type(a))\n",
        "#the default data type for input() is string"
      ],
      "metadata": {
        "id": "9KPWhqD3QOIf"
      },
      "execution_count": null,
      "outputs": []
    },
    {
      "cell_type": "code",
      "source": [
        "#why the default data type for inpuit function is string?\n",
        "#The function has to be in such a way"
      ],
      "metadata": {
        "id": "Yx9_mpiVQOUD"
      },
      "execution_count": null,
      "outputs": []
    },
    {
      "cell_type": "code",
      "source": [
        "a = int(input(\"enter the number: \"))\n",
        "b = int(input(\"enter the number: \"))\n",
        "print(a+b)"
      ],
      "metadata": {
        "id": "_81Rr3f4Ql9w"
      },
      "execution_count": null,
      "outputs": []
    },
    {
      "cell_type": "code",
      "source": [
        "#what is concatenation?\n",
        "print(\"hello\"+ \"team\")\n",
        "#adding 2 strings or 2 input() without"
      ],
      "metadata": {
        "id": "PQUL9CPyQm3A"
      },
      "execution_count": null,
      "outputs": []
    },
    {
      "cell_type": "code",
      "source": [
        "a = int(input(\"enetr the number: \"))\n",
        "b = int(input(\"enter the number: \"))\n",
        "print(a+b)\n",
        "#Note:-  when we are dealing with integer"
      ],
      "metadata": {
        "id": "4TkwvqgOQvtC"
      },
      "execution_count": null,
      "outputs": []
    },
    {
      "cell_type": "code",
      "source": [
        "#take 2 decimal input() apply all the arthametic operations?\n",
        "a = float(input(\"eneter the decimal: \"))\n",
        "b = float(input(\"enter decimal number: \"))"
      ],
      "metadata": {
        "id": "HR3VDBFwQv5g"
      },
      "execution_count": null,
      "outputs": []
    },
    {
      "cell_type": "markdown",
      "source": [
        "Strings"
      ],
      "metadata": {
        "id": "6IvzlwIfQ-Lx"
      }
    },
    {
      "cell_type": "code",
      "source": [
        "#what is strings?\n",
        "#string is a collection of multiple characters written inside the quotes\n",
        "#How can we declare a string?\n",
        "#we decalre strings in \" \" or ' '"
      ],
      "metadata": {
        "id": "bCmuw2wOQwGI"
      },
      "execution_count": null,
      "outputs": []
    },
    {
      "cell_type": "code",
      "source": [
        "#How many types of strings are there?\n",
        "#two types\n",
        "#single line string---> \" \" or ' '\n",
        "#multiline string---> \"\"\" \"\"\"double triple"
      ],
      "metadata": {
        "id": "X1876KTORCA_"
      },
      "execution_count": null,
      "outputs": []
    },
    {
      "cell_type": "code",
      "source": [],
      "metadata": {
        "id": "JdQCZnU7RUFh"
      },
      "execution_count": null,
      "outputs": []
    },
    {
      "cell_type": "code",
      "source": [
        "#print hello world program\n",
        "print(\"hello world!\")"
      ],
      "metadata": {
        "id": "gZEbwvTyI619",
        "colab": {
          "base_uri": "https://localhost:8080/"
        },
        "outputId": "be4bede3-9497-4991-b828-5e276c5baca3"
      },
      "execution_count": null,
      "outputs": [
        {
          "output_type": "stream",
          "name": "stdout",
          "text": [
            "hello world!\n"
          ]
        }
      ]
    },
    {
      "cell_type": "code",
      "source": [
        "#string is a collection of multiple characters where each character can be accessible\n",
        "#string is ordered means characters in the string has sequence of index position numbers\n",
        "#How can we access the characeters from the string?\n",
        "#we can access by using \"indexing\" and"
      ],
      "metadata": {
        "id": "ivEA3epFRCrt"
      },
      "execution_count": null,
      "outputs": []
    },
    {
      "cell_type": "code",
      "source": [
        "a = \"Hello World!\"\n",
        "#from the above string print the \"e\" ?\n",
        "#[start_index_number]\n",
        "# print(a[1])\n",
        "#print \"r\" from the above string?\n",
        "# print(a[8])\n",
        "#print the \"hello world!\" in separate line without using loops?\n",
        "print(a[0])\n",
        "print(a[1])\n",
        "print(a[2])\n",
        "print(a[3])\n",
        "print(a[4])\n",
        "print(a[5])\n",
        "print(a[6])"
      ],
      "metadata": {
        "id": "Eno3ty55RC66"
      },
      "execution_count": null,
      "outputs": []
    },
    {
      "cell_type": "code",
      "source": [
        "#access a range of characters [start:end_index_number]\n",
        "s = \"hello world!\"\n",
        "#llo wo\n",
        "print(s[2:7]) #end index can be n+1\n",
        "#why the 7th charcter is not printed?\n",
        "#because slicing can be stop  before the end index position number\n",
        "print(s[2:8])\n",
        "#from the above print the entire \"hello\"\n",
        "print(s[0:5])"
      ],
      "metadata": {
        "id": "Wkht7BgoRYFD"
      },
      "execution_count": null,
      "outputs": []
    },
    {
      "cell_type": "code",
      "source": [
        "h = \"Hello World!\"\n",
        "#from above string print the even index of the data\n",
        "#[start:end:step]\n",
        "print(h[0:12:2])\n",
        "#print the odd index charcters from abover string\n",
        "print(h[1:12:2])"
      ],
      "metadata": {
        "id": "oxYZYLxWRUm6"
      },
      "execution_count": null,
      "outputs": []
    },
    {
      "cell_type": "code",
      "source": [
        "a = \"\"\"Data is a collection of facts, numbers, words, observations, or other useful information\n",
        "that can be used for calculation, reasoning, or planning.\"\"\"\n",
        "#howmany character in above string\n",
        "#use len() given total number characters in string\n",
        "#length start from 1\n",
        "print(len(a))\n",
        "#find end index_number of the above string\n",
        "print(len(a)-1)\n",
        "print(a[146])"
      ],
      "metadata": {
        "id": "Ds3p0L1gRgIo"
      },
      "execution_count": null,
      "outputs": []
    },
    {
      "cell_type": "markdown",
      "source": [
        "Negative indexing:- where we can access the items in reverse direction\n",
        "\n",
        "-->-ve indexing starts from -1"
      ],
      "metadata": {
        "id": "CChBaDisRm1A"
      }
    },
    {
      "cell_type": "code",
      "source": [
        "h = \"Hello Good afterNoon\"\n",
        "#[start]\n",
        "print(h[-1])"
      ],
      "metadata": {
        "id": "F1s3RfULRgcY"
      },
      "execution_count": null,
      "outputs": []
    },
    {
      "cell_type": "code",
      "source": [
        "#can we print range of characters in reverse direction?\n",
        "#No\n",
        "print(h[-1:-7])\n",
        "#By default slicing direction is from left to right\n",
        "#if you want to go in reverse direction in step we need to mention -1\n",
        "print(h[-1:-7:-1])"
      ],
      "metadata": {
        "id": "70DClhEDRgpT"
      },
      "execution_count": null,
      "outputs": []
    },
    {
      "cell_type": "code",
      "source": [
        "u = \"hello\"\n",
        "#reverse the above string\n",
        "print(u[-1:-6:-1])"
      ],
      "metadata": {
        "id": "8vZzaKdoRwUZ"
      },
      "execution_count": null,
      "outputs": []
    },
    {
      "cell_type": "code",
      "source": [
        "l = \"madam\"\n",
        "print(l[-1:-6:-1])\n",
        "print(l[:])\n",
        "print(l[::])\n",
        "print(l[::2])\n",
        "print(l[::-1])"
      ],
      "metadata": {
        "id": "iX0llUuXRwua"
      },
      "execution_count": null,
      "outputs": []
    },
    {
      "cell_type": "code",
      "source": [
        "st='Happy Christmas and Happy new year'\n",
        "\n",
        "if (st.startswith(\"Happy”)):\n",
        "\n",
        "    x=st.rsplit(“Happy”)\n",
        "\n",
        "print(len(x))"
      ],
      "metadata": {
        "id": "YtNMDzEARg05"
      },
      "execution_count": null,
      "outputs": []
    },
    {
      "cell_type": "code",
      "source": [
        " st = 'Happy Christmas and Happy new year'\n",
        "\n",
        "if st.startswith(\"Happy\"):\n",
        "    x = st.rsplit(\"Happy\")  # Split by \"Happy\"\n",
        "\n",
        "print(len(x))detected at line 1)"
      ],
      "metadata": {
        "id": "DW7MGEmeSAJh"
      },
      "execution_count": null,
      "outputs": []
    },
    {
      "cell_type": "code",
      "source": [
        "s = \"OpenAI\"\n",
        "print(s[1:6][-1::-2])"
      ],
      "metadata": {
        "colab": {
          "base_uri": "https://localhost:8080/"
        },
        "id": "ntt6EyNRSBup",
        "outputId": "06d2c33c-7732-4197-a891-828cfcef4f4e"
      },
      "execution_count": null,
      "outputs": [
        {
          "output_type": "stream",
          "name": "stdout",
          "text": [
            "Inp\n"
          ]
        }
      ]
    },
    {
      "cell_type": "markdown",
      "source": [
        "09-11-2024"
      ],
      "metadata": {
        "id": "MLYorw9v3vEv"
      }
    },
    {
      "cell_type": "code",
      "source": [
        "#revision\n",
        "#indexing:- positional number of chartacters\n",
        "#string:- is ordered sequence positional number of chartacters\n",
        "#len():- counts the no of characters in the string\n",
        "#print th even characters from a string?   [start(0):end:step(2)]\n",
        "#print the odd characters from string?"
      ],
      "metadata": {
        "id": "k5Ew6dtsSB7p"
      },
      "execution_count": null,
      "outputs": []
    },
    {
      "cell_type": "code",
      "source": [
        "#Negative indexing:-  we can access the string in reverse direction.\n",
        "# neagtive indexing starts from -1\n",
        "#what is the default slicing direction?\n",
        "#slicing can be done from lft to right dirction\n",
        "s = \"Hello world!\"\n",
        "print(s[-1:-7])\n",
        "print(s[-7:-1])"
      ],
      "metadata": {
        "id": "idAU2T30SCLZ"
      },
      "execution_count": null,
      "outputs": []
    },
    {
      "cell_type": "code",
      "source": [
        "#How can i print the string in reverse direction (or) how can i access the string by using negative indexing?\n",
        "#if you want to access string in reverse direction we need to give step value as \"-1\"\n",
        "print(s[-1:-13:-1])"
      ],
      "metadata": {
        "id": "_Gpflb4r35Go"
      },
      "execution_count": null,
      "outputs": []
    },
    {
      "cell_type": "code",
      "source": [
        "#How can we make slicing very easy without giving the indexing?\n",
        "h = \"Data science is the scientific study of data to gain knowledge and make informed decisions\"\n",
        "print(h[:])\n",
        "#default indexing[startposition[0]:end[len(str)]:step[1]]\n",
        "print(h[::]) #value error: slice step cannot be zero\n",
        "#print th even index characters from above string?\n",
        "print(h[::2])\n",
        "#odd charcters\n",
        "print(h[1::2])"
      ],
      "metadata": {
        "id": "ofYhEdKv35VW"
      },
      "execution_count": null,
      "outputs": []
    },
    {
      "cell_type": "code",
      "source": [
        "a = \"hello\"\n",
        "#reverse above string\n",
        "print(a[::-1])"
      ],
      "metadata": {
        "id": "_f8RSOEI34o_"
      },
      "execution_count": null,
      "outputs": []
    },
    {
      "cell_type": "code",
      "source": [
        "#check weather the string is palidrome or not?\n",
        "#madam,  malayalam, markram, mom, dad, hyderabad, karnatak,chennai\n",
        "i = input(\"enter the name: \")\n",
        "print(i[::-1])"
      ],
      "metadata": {
        "id": "TIZY3hiu33bJ"
      },
      "execution_count": null,
      "outputs": []
    },
    {
      "cell_type": "markdown",
      "source": [
        "String"
      ],
      "metadata": {
        "id": "QEVbqFOd4LFQ"
      }
    },
    {
      "cell_type": "code",
      "source": [
        "#string methods:- the methods that are applying on the string is known as string methods\n",
        "#what are all methods i can apply on the below string?\n",
        "#by using \"dir()\" we can find out all the methods that are applicable on string\n",
        "a = \"hello world!\"\n",
        "print(dir(a))"
      ],
      "metadata": {
        "id": "5ASaiQOM4GCU"
      },
      "execution_count": null,
      "outputs": []
    },
    {
      "cell_type": "code",
      "source": [
        "\"\"\"'capitalize', 'casefold', 'center', 'count', 'encode', 'endswith',\n",
        " 'expandtabs', 'find', 'format', 'format_map', 'index', 'isalnum',\n",
        " 'isalpha', 'isascii', 'isdecimal', 'isdigit', 'isidentifier',\n",
        "  'islower','isnumeric', 'isprintable', 'isspace', 'istitle', 'isupper',\n",
        "   'join', 'ljust', 'lower', 'lstrip', 'maketrans', 'partition', 'removeprefix',\n",
        "    'removesuffix', 'replace', 'rfind', 'rindex', 'rjust', 'rpartition',\n",
        "'rsplit', 'rstrip', 'split', 'splitlines', 'startswith', 'strip',\n",
        " 'swapcase', 'title', 'translate', 'upper', '"
      ],
      "metadata": {
        "id": "uwSPKONz4GUu"
      },
      "execution_count": null,
      "outputs": []
    },
    {
      "cell_type": "code",
      "source": [
        "a = \"hello world!\"\n",
        "#convert the above string in to upper case?\n",
        "print(a.upper())\n",
        "print(a.lower())\n",
        "print(a.capitalize()) #it converts 1st letter into capital\n",
        "print(a.title())#it convert the 1st letter"
      ],
      "metadata": {
        "id": "Dg9YFfAY4Gfz",
        "colab": {
          "base_uri": "https://localhost:8080/"
        },
        "outputId": "057e5a16-bcc5-4567-c643-c4cde46171ec"
      },
      "execution_count": null,
      "outputs": [
        {
          "output_type": "stream",
          "name": "stdout",
          "text": [
            "HELLO WORLD!\n",
            "hello world!\n",
            "Hello world!\n",
            "Hello World!\n"
          ]
        }
      ]
    },
    {
      "cell_type": "code",
      "source": [
        "#i want to delete unwanted space from the string\n",
        "k = \"   hello world!   \"\n",
        "#strip()\n",
        "print(k.strip())\n",
        "#left side space\n",
        "print(k.lstrip())\n",
        "#right side space\n",
        "print(k.rstrip())"
      ],
      "metadata": {
        "id": "WISwq-dC4Gp-"
      },
      "execution_count": null,
      "outputs": []
    },
    {
      "cell_type": "code",
      "source": [
        "#replace the \"world\" with univers in below string\n",
        "#replace('old','new_str)\n",
        "s = \"hello world!\"\n",
        "print(s.replace(\"world\",\"universe\"))"
      ],
      "metadata": {
        "id": "gVYOrnTJ4USn"
      },
      "execution_count": null,
      "outputs": []
    },
    {
      "cell_type": "code",
      "source": [
        "h = \"hi team! good afternoon\"\n",
        "#above string replace \"afternoon\" with \"evening\"\n",
        "print(h.find('z'))\n",
        "print(h.index('z'))\n",
        "#what is difference between index and find()?\n",
        "#in find() if the index charactr is not present it prints -1\n",
        "#where in index() if the character is not"
      ],
      "metadata": {
        "id": "xb4mFXrj4Uia",
        "colab": {
          "base_uri": "https://localhost:8080/",
          "height": 349
        },
        "outputId": "1a9ad7b4-ceee-438c-c32c-13c755001efe"
      },
      "execution_count": null,
      "outputs": [
        {
          "output_type": "stream",
          "name": "stdout",
          "text": [
            "-1\n"
          ]
        },
        {
          "output_type": "error",
          "ename": "ValueError",
          "evalue": "substring not found",
          "traceback": [
            "\u001b[0;31m---------------------------------------------------------------------------\u001b[0m",
            "\u001b[0;31mValueError\u001b[0m                                Traceback (most recent call last)",
            "\u001b[0;32m<ipython-input-3-18f37503846f>\u001b[0m in \u001b[0;36m<cell line: 4>\u001b[0;34m()\u001b[0m\n\u001b[1;32m      2\u001b[0m \u001b[0;31m#above string replace \"afternoon\" with \"evening\"\u001b[0m\u001b[0;34m\u001b[0m\u001b[0;34m\u001b[0m\u001b[0m\n\u001b[1;32m      3\u001b[0m \u001b[0mprint\u001b[0m\u001b[0;34m(\u001b[0m\u001b[0mh\u001b[0m\u001b[0;34m.\u001b[0m\u001b[0mfind\u001b[0m\u001b[0;34m(\u001b[0m\u001b[0;34m'z'\u001b[0m\u001b[0;34m)\u001b[0m\u001b[0;34m)\u001b[0m\u001b[0;34m\u001b[0m\u001b[0;34m\u001b[0m\u001b[0m\n\u001b[0;32m----> 4\u001b[0;31m \u001b[0mprint\u001b[0m\u001b[0;34m(\u001b[0m\u001b[0mh\u001b[0m\u001b[0;34m.\u001b[0m\u001b[0mindex\u001b[0m\u001b[0;34m(\u001b[0m\u001b[0;34m'z'\u001b[0m\u001b[0;34m)\u001b[0m\u001b[0;34m)\u001b[0m\u001b[0;34m\u001b[0m\u001b[0;34m\u001b[0m\u001b[0m\n\u001b[0m\u001b[1;32m      5\u001b[0m \u001b[0;31m#what is difference between index and find()?\u001b[0m\u001b[0;34m\u001b[0m\u001b[0;34m\u001b[0m\u001b[0m\n\u001b[1;32m      6\u001b[0m \u001b[0;31m#in find() if the index charactr is not present it prints -1\u001b[0m\u001b[0;34m\u001b[0m\u001b[0;34m\u001b[0m\u001b[0m\n",
            "\u001b[0;31mValueError\u001b[0m: substring not found"
          ]
        }
      ]
    },
    {
      "cell_type": "code",
      "source": [
        "#what is \"swapcase()\"?\n",
        "#what is zfill?"
      ],
      "metadata": {
        "id": "xstmJ8_ISAUe"
      },
      "execution_count": null,
      "outputs": []
    },
    {
      "cell_type": "markdown",
      "source": [
        "String Format methods"
      ],
      "metadata": {
        "id": "vjjMCid84rdH"
      }
    },
    {
      "cell_type": "code",
      "source": [
        "age = 10\n",
        "txt = f\"my age is {age} years old.\"\n",
        "print(txt)"
      ],
      "metadata": {
        "id": "R6fj1hgj4n7v"
      },
      "execution_count": null,
      "outputs": []
    },
    {
      "cell_type": "code",
      "source": [
        "item_name = input(\"eneter the product name: \")\n",
        "quantity = float(input(\"enter the quantity: \"))\n",
        "price_each = float(input(\"eneter the price: \"))\n",
        "notification = f\"your order for {item_name} has been confirmed with an quantity of {quantity} and Total price {price_each*quantity}/-\"\n",
        "print(notification)"
      ],
      "metadata": {
        "id": "gw8I-a4n4oFS"
      },
      "execution_count": null,
      "outputs": []
    },
    {
      "cell_type": "code",
      "source": [
        "#what is escape characters?\n",
        "u = \"Dwayne \\\"The Rock\\\" Johonson\"\n",
        "#print the above string with quotes\n",
        "print(u)\n",
        "#escape characters used to print the illegal"
      ],
      "metadata": {
        "id": "0HBVt9jb4oOL"
      },
      "execution_count": null,
      "outputs": []
    },
    {
      "cell_type": "code",
      "source": [
        "l = \"hello team! \\\"good day\\\", hope everyon is practing \\\"string\\\" is important\"\n",
        "print(l)"
      ],
      "metadata": {
        "id": "wAtMRpTM41L5"
      },
      "execution_count": null,
      "outputs": []
    },
    {
      "cell_type": "code",
      "source": [
        "a = 10\n",
        "print(dir(a))"
      ],
      "metadata": {
        "id": "6vpGnN-u43Zd",
        "colab": {
          "base_uri": "https://localhost:8080/"
        },
        "outputId": "db4686e8-12de-42c2-f139-4582bafdeeec"
      },
      "execution_count": null,
      "outputs": [
        {
          "output_type": "stream",
          "name": "stdout",
          "text": [
            "['__abs__', '__add__', '__and__', '__bool__', '__ceil__', '__class__', '__delattr__', '__dir__', '__divmod__', '__doc__', '__eq__', '__float__', '__floor__', '__floordiv__', '__format__', '__ge__', '__getattribute__', '__getnewargs__', '__gt__', '__hash__', '__index__', '__init__', '__init_subclass__', '__int__', '__invert__', '__le__', '__lshift__', '__lt__', '__mod__', '__mul__', '__ne__', '__neg__', '__new__', '__or__', '__pos__', '__pow__', '__radd__', '__rand__', '__rdivmod__', '__reduce__', '__reduce_ex__', '__repr__', '__rfloordiv__', '__rlshift__', '__rmod__', '__rmul__', '__ror__', '__round__', '__rpow__', '__rrshift__', '__rshift__', '__rsub__', '__rtruediv__', '__rxor__', '__setattr__', '__sizeof__', '__str__', '__sub__', '__subclasshook__', '__truediv__', '__trunc__', '__xor__', 'as_integer_ratio', 'bit_count', 'bit_length', 'conjugate', 'denominator', 'from_bytes', 'imag', 'numerator', 'real', 'to_bytes']\n"
          ]
        }
      ]
    },
    {
      "cell_type": "code",
      "source": [
        "\"\"\"'capitalize', 'casefold', 'center', 'count', 'encode', 'endswith',\n",
        " 'expandtabs', 'find', 'format', 'format_map', 'index', 'isalnum',\n",
        " 'isalpha', 'isascii', 'isdecimal', 'isdigit', 'isidentifier',\n",
        "  'islower','isnumeric', 'isprintable', 'isspace', 'istitle', 'isupper',\n",
        "   'join', 'ljust', 'lower', 'lstrip', 'maketrans', 'partition', 'removeprefix',\n",
        "    'removesuffix', 'replace', 'rfind', 'rindex', 'rjust', 'rpartition',\n",
        "'rsplit', 'rstrip', 'split', 'splitlines', 'startswith', 'strip',\n",
        " 'swapcase', 'title', 'translate', 'upper', 'zfill' \"\"\""
      ],
      "metadata": {
        "id": "Bmk8ZaJO41kW"
      },
      "execution_count": null,
      "outputs": []
    },
    {
      "cell_type": "code",
      "source": [
        "a = \"hello world!\"\n",
        "#convert the above string in to upper case?\n",
        "print(a.upper())\n",
        "print(a.lower())\n",
        "print(a.capitalize()) #it converts 1st letter into capital\n",
        "print(a.title())#it convert the 1st letter into capital after each and every space"
      ],
      "metadata": {
        "id": "uoq_vkEERruL"
      },
      "execution_count": null,
      "outputs": []
    },
    {
      "cell_type": "code",
      "source": [
        "#i want to delete unwanted space from the string\n",
        "k = \"   hello world!   \"\n",
        "#strip()\n",
        "print(k.strip())\n",
        "#left side space\n",
        "print(k.lstrip())\n",
        "#right side space\n",
        "print(k.rstrip())"
      ],
      "metadata": {
        "id": "VP5R5gkGRrsv"
      },
      "execution_count": null,
      "outputs": []
    },
    {
      "cell_type": "code",
      "source": [
        "#replace the \"world\" with univers in below string\n",
        "#replace('old','new_str)\n",
        "s = \"hello world!\"\n",
        "print(s.replace(\"world\",\"universe\"))"
      ],
      "metadata": {
        "id": "MA7QkKO2Rrpi"
      },
      "execution_count": null,
      "outputs": []
    },
    {
      "cell_type": "code",
      "source": [
        "h = \"hi team! good afternoon\"\n",
        "#above string replace \"afternoon\" with \"evening\"\n",
        "print(h.find('z'))\n",
        "print(h.index('z'))\n",
        "#what is difference between index and find()?\n",
        "#in find() if the index charactr is not present it prints -1\n",
        "#where in index() if the character is not present it rises value \"error\""
      ],
      "metadata": {
        "id": "R8hr1x41RroR"
      },
      "execution_count": null,
      "outputs": []
    },
    {
      "cell_type": "code",
      "source": [
        "#what is \"swapcase()\"?\n",
        "#what is zfill?"
      ],
      "metadata": {
        "id": "LczWfnp7Rrkv"
      },
      "execution_count": null,
      "outputs": []
    },
    {
      "cell_type": "code",
      "source": [
        "age = 10\n",
        "txt = f\"my age is {age} years old.\"\n",
        "print(txt)"
      ],
      "metadata": {
        "id": "5tXcFdw6Rrje"
      },
      "execution_count": null,
      "outputs": []
    },
    {
      "cell_type": "code",
      "source": [
        "item_name = input(\"eneter the product name: \")\n",
        "quantity = float(input(\"enter the quantity: \"))\n",
        "price_each = float(input(\"eneter the price: \"))\n",
        "notification = f\"your order for {item_name} has been confirmed with an quantity of {quantity} and Total price {price_each*quantity}/-\"\n",
        "print(notification)"
      ],
      "metadata": {
        "id": "rNzh37MVRrfZ"
      },
      "execution_count": null,
      "outputs": []
    },
    {
      "cell_type": "code",
      "source": [
        "#what is escape characters?\n",
        "u = \"Dwayne \\\"The Rock\\\" Johonson\"\n",
        "#print the above string with quotes\n",
        "print(u)\n",
        "#escape characters used to print the illegal characters(\" \") or (' ') use backward slash(\\) in front of the characters"
      ],
      "metadata": {
        "id": "xzXS0Hl-SNZY"
      },
      "execution_count": null,
      "outputs": []
    },
    {
      "cell_type": "code",
      "source": [
        "l = \"hello team! \\\"good day\\\", hope everyon is practing \\\"string\\\" is important\"\n",
        "print(l)"
      ],
      "metadata": {
        "id": "ZSycSONMSNYL"
      },
      "execution_count": null,
      "outputs": []
    },
    {
      "cell_type": "code",
      "source": [
        "a = 10\n",
        "print(dir(a))"
      ],
      "metadata": {
        "id": "36IVixcwSaxu"
      },
      "execution_count": null,
      "outputs": []
    },
    {
      "cell_type": "code",
      "source": [
        "#what is string?\n",
        "#how can we create or declare a string?\n",
        "#How many types of strings are their?\n",
        "#How we can access the characters in string?\n",
        "   #1.indexing    2. slicing operator--->[]\n",
        "#what is len()? #returns the count of items\n",
        "#what is -ve indexing?\n",
        "#what default indexing? [start:end:step]\n",
        "#what is string methods?\n",
        "#how can we find what are methods applicable on string?\n",
        "# \"dir()\"\"\n",
        "#tell me a 10 string ,ethods?\n",
        "#upper, lower, strip, lstrip, rstrip, capitalize, title, find,index, replace,swapcase,zfill\n",
        "#what is string format method?\n",
        "#it takes an argument and replace or fill it over the place holder{}\n",
        "#What is escape characters?\n",
        "#it used to print illegal characters"
      ],
      "metadata": {
        "id": "3aM5wzOJSavR"
      },
      "execution_count": null,
      "outputs": []
    },
    {
      "cell_type": "markdown",
      "source": [
        "# Conditinal statements"
      ],
      "metadata": {
        "id": "0X1pznF-XYCU"
      }
    },
    {
      "cell_type": "code",
      "source": [
        "#decision making program can be done with the help of conditional statements\n",
        "#How can you check the condition and how can you make decision?\n",
        "#decision making or conditional check can be done based on \"comaprision operators\"\n",
        "#what is comaprision operators? #operators where we can check certain conditions that are satisfied or notsatisfied\n",
        "#this is also known as \"relational operators\"\n",
        "#There are 6 comparision or relational operators\n",
        "#1.Equal to----> ==\n",
        "#2. Not equal to ---> !=\n",
        "#3. greater than --->   >\n",
        "#4. less than ----->   <\n",
        "#5. greater than equal to ----> >=\n",
        "#6. less than equal too --->   <="
      ],
      "metadata": {
        "id": "ZiS7ObvuSat4"
      },
      "execution_count": null,
      "outputs": []
    },
    {
      "cell_type": "code",
      "source": [
        "#what are all conditionL satetment do we have in python?\n",
        "#if----> elif----> else"
      ],
      "metadata": {
        "id": "iOM8GLFBSsiK"
      },
      "execution_count": null,
      "outputs": []
    },
    {
      "cell_type": "code",
      "source": [
        "#write a program to check that student is pass or fail based recived marks and print marks\n",
        "marks = int(input(\"eneter the marks: \"))\n",
        "passing = 45\n",
        "if marks >= passing:\n",
        "  print(f\"congratulations, you have receive {marks} marks\")\n",
        "else:\n",
        "  print(f\"Better luck next time,you have received {marks} marks\")"
      ],
      "metadata": {
        "id": "3ZAUa4CrRreF"
      },
      "execution_count": null,
      "outputs": []
    },
    {
      "cell_type": "code",
      "source": [
        "#if you are having more than 2 conditons then\n",
        "#we can use \"elif\"\n",
        "#write program to check either the given is +ve or -ve if it is 0 means print \"neutral\"\n",
        "num = int(input(\"eneter the number: \"))\n",
        "if num > 0:\n",
        "  print(\"+ve\")\n",
        "elif num == 0:\n",
        "  print(\"neutral\")\n",
        "else:\n",
        "  print(\"-ve\")"
      ],
      "metadata": {
        "id": "5j0dqtC2RraY"
      },
      "execution_count": null,
      "outputs": []
    },
    {
      "cell_type": "code",
      "source": [
        "#mom,malayalam\n",
        "a=input(\"Enter the string:\")\n",
        "b=a[::-1]\n",
        "if a.lower()==b.lower():\n",
        "  print(\"it is a palindrome:\",a)\n",
        "else:\n",
        "  print(\"it is not a palindrome:\",a)"
      ],
      "metadata": {
        "colab": {
          "base_uri": "https://localhost:8080/"
        },
        "id": "Ocm1Qr3bRrXT",
        "outputId": "95310ad2-80ad-43aa-b5da-fa31059fd328"
      },
      "execution_count": null,
      "outputs": [
        {
          "output_type": "stream",
          "name": "stdout",
          "text": [
            "Enter the string:mom\n",
            "its is a palindrome: mom\n"
          ]
        }
      ]
    },
    {
      "cell_type": "code",
      "source": [],
      "metadata": {
        "id": "w1Y2rVaNX20q"
      },
      "execution_count": null,
      "outputs": []
    },
    {
      "cell_type": "markdown",
      "source": [
        "# Logical operators"
      ],
      "metadata": {
        "id": "drOYl7eeX1mZ"
      }
    },
    {
      "cell_type": "code",
      "source": [
        "#Logical operator\n",
        "# 1. AND : operator executes the program when all the conditions are true\n",
        "a=45\n",
        "b=65\n",
        "c=55\n",
        "#wap to check a is a>b,c\n",
        "              #c<b?\n",
        "if a>b and a>c and c<b:\n",
        "  print(\"all conditions satisfied\")\n",
        "else:\n",
        "  print(\"not satisfied\")"
      ],
      "metadata": {
        "colab": {
          "base_uri": "https://localhost:8080/"
        },
        "id": "GZ0A3NPGRrTZ",
        "outputId": "c9207ce4-6d06-4c7a-b22a-898bee8c9731"
      },
      "execution_count": null,
      "outputs": [
        {
          "output_type": "stream",
          "name": "stdout",
          "text": [
            "not satisfied\n"
          ]
        }
      ]
    },
    {
      "cell_type": "code",
      "source": [
        "# 2. OR operator:Excutes the program if any one condition is satisfied\n",
        "#check the below values have met with any one condition then execute the program\n",
        "a=18\n",
        "b=45\n",
        "#\n",
        "x=20\n",
        "z=60\n",
        "y=35\n",
        "if x > a or x > 45 or y > a or y < b or z > a or z < b:\n",
        "  print(\"Condition satisfies\")\n",
        "else:\n",
        "  print(\"Condition not satisfied\")\n"
      ],
      "metadata": {
        "colab": {
          "base_uri": "https://localhost:8080/"
        },
        "id": "qNVN8SaxU8Gf",
        "outputId": "fd0ba7f7-39ef-437d-93d7-085cab9798da"
      },
      "execution_count": null,
      "outputs": [
        {
          "output_type": "stream",
          "name": "stdout",
          "text": [
            "Condition satisfies\n"
          ]
        }
      ]
    },
    {
      "cell_type": "code",
      "source": [
        "a=50\n",
        "b=20\n",
        "c=30\n",
        "d=60\n",
        "if a > b or c > b or d < a:\n",
        "  print(\"Condition satisfied\")\n",
        "else:\n",
        "  print(\"Condition not satisfied\")\n",
        "\n"
      ],
      "metadata": {
        "colab": {
          "base_uri": "https://localhost:8080/"
        },
        "id": "XEx2ZVZ9RrOg",
        "outputId": "8032ce45-b916-45f0-bc3f-9a70dd54c741"
      },
      "execution_count": null,
      "outputs": [
        {
          "output_type": "stream",
          "name": "stdout",
          "text": [
            "Condition satisfied\n"
          ]
        }
      ]
    },
    {
      "cell_type": "code",
      "source": [
        "#Not operator : it reverse the actual output\n",
        "print(1==1)\n",
        "print(not(1==1))"
      ],
      "metadata": {
        "colab": {
          "base_uri": "https://localhost:8080/"
        },
        "id": "BHPDaB7iRrIA",
        "outputId": "08c96c74-8118-4bb0-a890-f13f03401ed5"
      },
      "execution_count": null,
      "outputs": [
        {
          "output_type": "stream",
          "name": "stdout",
          "text": [
            "True\n",
            "False\n"
          ]
        }
      ]
    },
    {
      "cell_type": "markdown",
      "source": [
        "# Nested conditions"
      ],
      "metadata": {
        "id": "fncGCq-tYFfw"
      }
    },
    {
      "cell_type": "code",
      "source": [
        "#If you want to check a series or range  of conditions and you to print series of outputs\n",
        "a = 25\n",
        "if a > 10:\n",
        "  print(\"a is greater than 10\")\n",
        "  if a>20:\n",
        "    print(\"a is greater than 20\")\n",
        "    if a>30:\n",
        "      print(\"a is greater than 30\")\n",
        "      if a>40:\n",
        "        print(\"a is greater than 40\")\n",
        "        if a>50:\n",
        "          print(\"a is greater than 50\")\n",
        "        else:\n",
        "          print(\"a is less than 50\")\n",
        "      else:\n",
        "        print(\"a is less than 40\")\n",
        "    else:\n",
        "      print(\"a is less than 30\")\n",
        "  else:\n",
        "    print(\"a is less than 20\")\n",
        "else:\n",
        "  print(\"a is less than 10\")"
      ],
      "metadata": {
        "colab": {
          "base_uri": "https://localhost:8080/"
        },
        "id": "mcU1CengTZmV",
        "outputId": "67fffa54-c12f-4dc6-b8e0-bca12a3bcc30"
      },
      "execution_count": null,
      "outputs": [
        {
          "output_type": "stream",
          "name": "stdout",
          "text": [
            "a is greater than 10\n",
            "a is greater than 20\n",
            "a is less than 30\n"
          ]
        }
      ]
    },
    {
      "cell_type": "code",
      "source": [
        "#writing condition inside the another condition is knownas Nested conditions means writing if condition inside another if condition"
      ],
      "metadata": {
        "id": "dz4Q6ihWTZhB"
      },
      "execution_count": null,
      "outputs": []
    },
    {
      "cell_type": "code",
      "source": [
        "marks=int(input(\"Enter the marks:\"))\n",
        "if marks>91:\n",
        "  print(f\"Congrats you have received \\\"A+\\\" along with {marks} marks\")\n",
        "elif marks>81:\n",
        "    print(f\"Congrats you have received \\\"A\\\" along with {marks} marks\")\n",
        "elif marks>71:\n",
        "  print(f\"congratulation you have received \\\"B\\\" Grade along with {marks}marks\")\n",
        "elif marks>61:\n",
        "  print(f\"congratulation you have received \\\"c\\\" Grade along with {marks}marks\")\n",
        "elif marks>40:\n",
        "  print(f\"congratulation you have received \\\"D\\\" Grade along with {marks}marks\")\n",
        "else:\n",
        "  print(\"you failed in exams\")\n"
      ],
      "metadata": {
        "colab": {
          "base_uri": "https://localhost:8080/"
        },
        "id": "K4tUIAtzTZfG",
        "outputId": "ee5226f9-0f54-4b97-9093-2e9046c9ea01"
      },
      "execution_count": null,
      "outputs": [
        {
          "output_type": "stream",
          "name": "stdout",
          "text": [
            "Enter the marks:75\n",
            "congratulation you have received \"B\" Grade along with 75marks\n"
          ]
        }
      ]
    },
    {
      "cell_type": "code",
      "source": [
        "#tw0 condition--> if & else\n",
        "#more than 2 conditions----> if elif else\n",
        "#multiple conditions at a time --> lodical operators(and, or , not)\n",
        "#if you series of output = nested if condition"
      ],
      "metadata": {
        "id": "q-HrXAN4TZdz"
      },
      "execution_count": null,
      "outputs": []
    },
    {
      "cell_type": "code",
      "source": [
        "a = 50\n",
        "b = 20\n",
        "c = 30\n",
        "d = 60\n",
        "if a>b or c > b or d < a:\n",
        "  pass\n",
        "\n",
        "#pass is a null place holder when you execute pass then nothing will happens"
      ],
      "metadata": {
        "id": "fX-nrexxTZbr"
      },
      "execution_count": null,
      "outputs": []
    },
    {
      "cell_type": "markdown",
      "source": [],
      "metadata": {
        "id": "oqEFUTZtZ2Hd"
      }
    },
    {
      "cell_type": "code",
      "source": [
        "if :\n",
        "  print\n",
        "  if:\n",
        "    print\n",
        "   else:\n",
        "    print\n",
        "else:\n",
        "  print"
      ],
      "metadata": {
        "id": "K4_R_-MATZaV"
      },
      "execution_count": null,
      "outputs": []
    },
    {
      "cell_type": "markdown",
      "source": [
        "# **Loops**"
      ],
      "metadata": {
        "id": "lqv1D-azZ-0G"
      }
    },
    {
      "cell_type": "code",
      "source": [
        "#what is loops?\n",
        "#loops are set of instructions\n",
        "#What is the purpose of loops?\n",
        "#It is used to  avoid dupliacate codes\n",
        "#How many types of codes?\n",
        "#There are 2 types\n",
        "#1.Wet code :- Writing Everythinng Twice   (Low level language)\n",
        "#2.Dry code :- Don't repeat yourself       (High level language)\n",
        "#how many types of loops?\n",
        "#1. For loop\n",
        "#2. While loop\n"
      ],
      "metadata": {
        "id": "KTk4XE59TZYb"
      },
      "execution_count": null,
      "outputs": []
    },
    {
      "cell_type": "markdown",
      "source": [
        "# **While loop**\n"
      ],
      "metadata": {
        "id": "li_3IqO1dYuA"
      }
    },
    {
      "cell_type": "code",
      "source": [
        "#what is while loop?\n",
        "#is is a set of instructions which will run untill the condition remains True\n",
        "target = 5\n",
        "initial= 1\n",
        "while initial <= 5:\n",
        "  print(\"Go up \")\n",
        "  print(\"godown\")\n",
        "  print(\"===rep  is completed===\")\n",
        "  initial = initial+1"
      ],
      "metadata": {
        "id": "qi6VxiZ0TZXP"
      },
      "execution_count": null,
      "outputs": []
    },
    {
      "cell_type": "code",
      "source": [
        "#wap to run a lift if the user is giving 4th stop the lift at 4th floor\n",
        "a=int(input(\"Enter the floor number :\"))\n",
        "intial = 1\n",
        "while intial<=a:\n",
        "  print(f\"You have reached {intial} floor\")\n",
        "  intial = intial+1\n"
      ],
      "metadata": {
        "id": "unzIkBeVbDjN"
      },
      "execution_count": null,
      "outputs": []
    },
    {
      "cell_type": "code",
      "source": [
        "a=int(input(\"Enter the floor number :\"))\n",
        "intial = 0\n",
        "while intial<=a:\n",
        "  print(f\"You have reached {intial} floor\")\n",
        "  intial = intial+1\n"
      ],
      "metadata": {
        "id": "7u1nWEUEbDhF"
      },
      "execution_count": null,
      "outputs": []
    },
    {
      "cell_type": "code",
      "source": [
        "a=int(input(\"Enter the floor number :\"))\n",
        "intial = 0\n",
        "dontstop = int(input(\"Enter the floor number\"))\n",
        "while intial<a:\n",
        "  intial = intial+1\n",
        "  if intial == dontstop:\n",
        "    continue\n",
        "  print(f\"You have reached {intial} floor\")\n",
        "\n",
        "\n",
        "\n"
      ],
      "metadata": {
        "id": "qP8To_vlbDd5"
      },
      "execution_count": null,
      "outputs": []
    },
    {
      "cell_type": "markdown",
      "source": [
        "## **For Loop**\n",
        "Definition : it runs for a set of instructions or set of rules over each and every element in the collection"
      ],
      "metadata": {
        "id": "X0Zt5eMIrJQQ"
      }
    },
    {
      "cell_type": "code",
      "source": [
        "a=[1,2,3,4,5,6]\n",
        "for i in a:\n",
        "  print(i*2,end=\" ' \")"
      ],
      "metadata": {
        "colab": {
          "base_uri": "https://localhost:8080/"
        },
        "id": "Zn2TIfxNbDbb",
        "outputId": "5957fe2c-25ef-4fb4-9eea-9cd6fab6d155"
      },
      "execution_count": null,
      "outputs": [
        {
          "output_type": "stream",
          "name": "stdout",
          "text": [
            "2 ' 4 ' 6 ' 8 ' 10 ' 12 ' "
          ]
        }
      ]
    },
    {
      "cell_type": "code",
      "source": [
        "\n",
        "user=(int(input(\"Enter the floor number:\")))\n",
        "intial=0\n",
        "while intial < user:\n",
        "  intial= intial+1\n",
        "  print(\"you are at\",intial)\n",
        "\n"
      ],
      "metadata": {
        "id": "XrTQUh4CtH8b"
      },
      "execution_count": null,
      "outputs": []
    },
    {
      "cell_type": "code",
      "source": [
        "#note - BREAK  : it terminates the loop irrespective of data or items\n",
        "#using the break statement in while loop use the logic or count after the break statement\n",
        "\n",
        "user=(int(input(\"Enter the floor number:\")))\n",
        "intial=0\n",
        "exit = int(input(\"Enter the floor\"))\n",
        "while intial < user:\n",
        "  if intial == exit:\n",
        "    break\n",
        "  intial= intial+1\n",
        "  print(\"you are at\",intial)\n"
      ],
      "metadata": {
        "colab": {
          "base_uri": "https://localhost:8080/"
        },
        "id": "No3KoUKFtH6F",
        "outputId": "f9e216e5-0909-4eb9-df70-f25165923f0e"
      },
      "execution_count": null,
      "outputs": [
        {
          "output_type": "stream",
          "name": "stdout",
          "text": [
            "Enter the floor number:6\n",
            "Enter the floor4\n",
            "you are at 1\n",
            "you are at 2\n",
            "you are at 3\n",
            "you are at 4\n"
          ]
        }
      ]
    },
    {
      "cell_type": "code",
      "source": [
        "#similarly i dont want to stop  the lift  at 2nd floor\n",
        "# use CONTINUE to skip the current iteration\n",
        "#when your using the continue keyword in the while loop use the logic before the continue"
      ],
      "metadata": {
        "colab": {
          "base_uri": "https://localhost:8080/"
        },
        "id": "EcKcOq82tH4z",
        "outputId": "82c870be-e25d-4a3e-cb01-5745c5113823"
      },
      "execution_count": null,
      "outputs": [
        {
          "output_type": "execute_result",
          "data": {
            "text/plain": [
              "6"
            ]
          },
          "metadata": {},
          "execution_count": 14
        }
      ]
    },
    {
      "cell_type": "code",
      "source": [
        "user = int(input(\"enter floor num: \"))\n",
        "intial = 0\n",
        "exit = int(input(\"enter the floor\"))\n",
        "while intial < user:\n",
        "  if intial == exit:\n",
        "    break\n",
        "  intial = intial + 1\n",
        "  print(\"you are at:\", intial)\n"
      ],
      "metadata": {
        "colab": {
          "base_uri": "https://localhost:8080/"
        },
        "id": "xPlt0cJ-tH1W",
        "outputId": "b3a0bad3-0bfe-4f28-9954-2586deaad157"
      },
      "execution_count": null,
      "outputs": [
        {
          "output_type": "stream",
          "name": "stdout",
          "text": [
            "enter floor num: 6\n",
            "enter the floor5\n",
            "you are at: 1\n",
            "you are at: 2\n",
            "you are at: 3\n",
            "you are at: 4\n",
            "you are at: 5\n"
          ]
        }
      ]
    },
    {
      "cell_type": "code",
      "source": [
        "a=[1,2,3,4,5,6,7,8,9]\n",
        "for i in a:\n",
        "  print(i*2 , end=\" \")\n",
        "  # i is known as iterator and the process of going through each and every element in the colection item\n"
      ],
      "metadata": {
        "colab": {
          "base_uri": "https://localhost:8080/"
        },
        "id": "2GZQEyk3tHz9",
        "outputId": "63e20618-7dd0-490d-bc6c-d9f0d3eeef5c"
      },
      "execution_count": null,
      "outputs": [
        {
          "output_type": "stream",
          "name": "stdout",
          "text": [
            "2 4 6 8 10 12 14 16 18 "
          ]
        }
      ]
    },
    {
      "cell_type": "code",
      "source": [
        "a=[1,2,3,4,5,6,7,8,9,10,23,34,5,6,74,3,5,4]\n",
        "for i in a:\n",
        "  if i==10:\n",
        "    break\n",
        "    # can we do the multiple break statements -- NO we cant do\n",
        "  print(i,end=\" \")"
      ],
      "metadata": {
        "colab": {
          "base_uri": "https://localhost:8080/"
        },
        "id": "NhvB4iwDtHwR",
        "outputId": "23c1dc66-59a0-48a4-d673-1bddebea7ec9"
      },
      "execution_count": null,
      "outputs": [
        {
          "output_type": "stream",
          "name": "stdout",
          "text": [
            "1 2 3 4 5 6 7 8 9 "
          ]
        }
      ]
    },
    {
      "cell_type": "code",
      "source": [
        "a=[1,2,3,4,5,6,7,8,9,10,23,34,5,6,74,3,5,4]\n",
        "for i in a:\n",
        "  if i==10 or i==23 or i==5:\n",
        "    continue\n",
        "  print(i,end=\" \")\n",
        "  #can we skip multiple iterations or numbers in dataset -- yes, by using \"or\"\n"
      ],
      "metadata": {
        "colab": {
          "base_uri": "https://localhost:8080/"
        },
        "id": "OmElbhfutHu8",
        "outputId": "ff258fcc-25c2-4145-f96e-30a57e463cc9"
      },
      "execution_count": null,
      "outputs": [
        {
          "output_type": "stream",
          "name": "stdout",
          "text": [
            "1 2 3 4 6 7 8 9 34 6 74 3 4 "
          ]
        }
      ]
    },
    {
      "cell_type": "markdown",
      "source": [
        "# Collections\n",
        "In the collections the data can be stored in 2 types:\n",
        "1 .  Heterogenous Data : if the collection is having multiple Dtypes (int,float,str,etc)inside it is known as Heterogenous data\n",
        "2 . Homogenous Data : if the collection has single dtype either int or float or string is known as Homogeneous data\n",
        "There are four types of collections :\\\n",
        "1 . List\n",
        "2 . Tuple\n",
        "3 . set\n",
        "4 . Dictionary\n"
      ],
      "metadata": {
        "id": "WSSks8yGzpi3"
      }
    },
    {
      "cell_type": "markdown",
      "source": [
        "# **LIST**"
      ],
      "metadata": {
        "id": "5E1EfWtE1-5p"
      }
    },
    {
      "cell_type": "code",
      "source": [
        "#what is List?\n",
        "#list is ordered,mutable,allows the duplicate data\n",
        "#how can we create a list or declare a list\n",
        "#list can be declared by using [] each element in llist is separated by [,]\n",
        "\n"
      ],
      "metadata": {
        "id": "A7iPrz_4bC9z"
      },
      "execution_count": null,
      "outputs": []
    },
    {
      "cell_type": "code",
      "source": [
        "#list allows duplicate data\n",
        "l1=[\"apple\",\"banana\",\"orange\",\"custardapple\",\"apple\",\"banana\"]\n",
        "print(len(l1))\n",
        "print(type(l1))\n",
        "print(l1)"
      ],
      "metadata": {
        "colab": {
          "base_uri": "https://localhost:8080/"
        },
        "id": "V9O0NzJb3P6x",
        "outputId": "b6e76ad6-3d92-4035-a771-71011bc9baf6"
      },
      "execution_count": null,
      "outputs": [
        {
          "output_type": "stream",
          "name": "stdout",
          "text": [
            "6\n",
            "<class 'list'>\n",
            "['apple', 'banana', 'orange', 'custardapple', 'apple', 'banana']\n"
          ]
        }
      ]
    },
    {
      "cell_type": "markdown",
      "source": [
        "List ir ordered"
      ],
      "metadata": {
        "id": "P96IQrPs4e9E"
      }
    },
    {
      "cell_type": "code",
      "source": [
        "#ordered means items in the list having a sequence of index position numbers\n",
        "#from the above list print ('pineapple')\n",
        "#print the range of iitem from apple to orange\n",
        "print(l1[0:3])\n",
        "print(l1[2])\n",
        "print(l1[0:4])"
      ],
      "metadata": {
        "id": "glHTKrwAbC6N",
        "colab": {
          "base_uri": "https://localhost:8080/"
        },
        "outputId": "eebb3264-8f4d-4e1a-c6dc-fd61696626dd"
      },
      "execution_count": null,
      "outputs": [
        {
          "output_type": "stream",
          "name": "stdout",
          "text": [
            "['apple', 'banana', 'orange']\n",
            "orange\n",
            "['apple', 'banana', 'orange', 'custardapple']\n"
          ]
        }
      ]
    },
    {
      "cell_type": "code",
      "source": [
        "print(l1[::2])"
      ],
      "metadata": {
        "id": "UGIatyj3bC3T",
        "colab": {
          "base_uri": "https://localhost:8080/"
        },
        "outputId": "a7c8e81f-a561-4cad-d68c-3c047c4b5589"
      },
      "execution_count": null,
      "outputs": [
        {
          "output_type": "stream",
          "name": "stdout",
          "text": [
            "['apple', 'orange', 'apple']\n"
          ]
        }
      ]
    },
    {
      "cell_type": "code",
      "source": [
        "l1=[\"apple\",\"banana\",\"orange\",\"custardapple\",\"apple\",\"banana\"]\n",
        "#reverse\n",
        "print(l1[::-1])\n",
        "print(l1)\n",
        "l1.append(\"cherry\")\n",
        "print(l1)\n",
        "l1.pop()\n",
        "print(l1)"
      ],
      "metadata": {
        "id": "auIj1rjnbCzq",
        "colab": {
          "base_uri": "https://localhost:8080/"
        },
        "outputId": "7f6d4710-cfd6-47a6-a213-55ea96249220"
      },
      "execution_count": null,
      "outputs": [
        {
          "output_type": "stream",
          "name": "stdout",
          "text": [
            "['banana', 'apple', 'custardapple', 'orange', 'banana', 'apple']\n",
            "['apple', 'banana', 'orange', 'custardapple', 'apple', 'banana']\n",
            "['apple', 'banana', 'orange', 'custardapple', 'apple', 'banana', 'cherry']\n",
            "['apple', 'banana', 'orange', 'custardapple', 'apple', 'banana']\n"
          ]
        }
      ]
    },
    {
      "cell_type": "code",
      "source": [
        "#by using this index position  number we are accessing the each index position number\n"
      ],
      "metadata": {
        "id": "UGUlz9LW4Y2e"
      },
      "execution_count": null,
      "outputs": []
    },
    {
      "cell_type": "markdown",
      "source": [
        "List is mutable\n",
        "\n",
        "1. swap or replace the data in existing list\n",
        "2. Add new items to the list\n",
        "3. remove the items from the list\n"
      ],
      "metadata": {
        "id": "ncng7Aqo9dH_"
      }
    },
    {
      "cell_type": "code",
      "source": [
        "#how can we  swap or replace items from the list\n",
        "#by using the inde position number\n",
        "l1=[\"apple\",\"banana\",\"orange\",\"custardapple\",\"apple\",\"banana\"]\n",
        "l1[4]= \"kiwi\"\n",
        "print(l1)\n",
        "#multiple items can change\n",
        "l1[4:]=\"grapes\",'lemon'\n",
        "print(l1)"
      ],
      "metadata": {
        "id": "98009wCw4Y0U",
        "colab": {
          "base_uri": "https://localhost:8080/"
        },
        "outputId": "916b8541-a822-488e-f329-e132a71fcad4"
      },
      "execution_count": null,
      "outputs": [
        {
          "output_type": "stream",
          "name": "stdout",
          "text": [
            "['apple', 'banana', 'orange', 'custardapple', 'kiwi', 'banana']\n",
            "['apple', 'banana', 'orange', 'custardapple', 'grapes', 'lemon']\n"
          ]
        }
      ]
    },
    {
      "cell_type": "code",
      "source": [
        "l1[2:4]='mango','watermelon','laddu'\n",
        "l1"
      ],
      "metadata": {
        "id": "rHdx7mOz4Yy8",
        "colab": {
          "base_uri": "https://localhost:8080/"
        },
        "outputId": "91a12fe2-5988-4b71-dc22-c4cdd690b1d6"
      },
      "execution_count": null,
      "outputs": [
        {
          "output_type": "execute_result",
          "data": {
            "text/plain": [
              "['apple', 'banana', 'mango', 'watermelon', 'laddu', 'laddu', 'grapes', 'lemon']"
            ]
          },
          "metadata": {},
          "execution_count": 27
        }
      ]
    },
    {
      "cell_type": "code",
      "source": [
        "l2=['apple', 'banana', 'mango', 'watermelon', 'laddu', 'laddu', 'grapes', 'lemon']\n",
        "l2[2:4]=\"lemon\",\"watermelon\",\"mango\",\"muskmelon\"\n",
        "l2"
      ],
      "metadata": {
        "id": "RFzHInXw4YxN",
        "colab": {
          "base_uri": "https://localhost:8080/"
        },
        "outputId": "cee5fdea-4fdc-430b-e9c9-b9378e8c9e0f"
      },
      "execution_count": null,
      "outputs": [
        {
          "output_type": "execute_result",
          "data": {
            "text/plain": [
              "['apple',\n",
              " 'banana',\n",
              " 'lemon',\n",
              " 'watermelon',\n",
              " 'mango',\n",
              " 'muskmelon',\n",
              " 'laddu',\n",
              " 'laddu',\n",
              " 'grapes',\n",
              " 'lemon']"
            ]
          },
          "metadata": {},
          "execution_count": 2
        }
      ]
    },
    {
      "cell_type": "code",
      "source": [
        "#note : can we change the range of items in a list --> yes, we can change\n",
        "\"\"\"l[start_index:end_index]but this ia a bad practice\n",
        "if we give more than the index range items it changes or replace\n",
        "the items with existing index items so the index positions of characters can be changed\"\"\""
      ],
      "metadata": {
        "id": "j1euvUAS4Yv7"
      },
      "execution_count": null,
      "outputs": []
    },
    {
      "cell_type": "markdown",
      "source": [
        "16-11-2024\n"
      ],
      "metadata": {
        "id": "1Vo0UFWCEDXx"
      }
    },
    {
      "cell_type": "code",
      "source": [
        "l2=['apple', 'banana', 'mango', 'watermelon']\n",
        "print(dir(l2)) #dir()is used to return method that are applicable on particular Object\n",
        "l2.append(\"cherry\")\n",
        "#append() :- by default it adds the items at the end or last of the list\n",
        "#what is the default index position when you use the append()?\n",
        "#we cannot add more than one item by using append method()\n",
        "l2"
      ],
      "metadata": {
        "colab": {
          "base_uri": "https://localhost:8080/"
        },
        "id": "xDoFNqKBBt5x",
        "outputId": "4a01ec35-7d9e-4929-f9ca-e96c2bc21906"
      },
      "execution_count": null,
      "outputs": [
        {
          "output_type": "stream",
          "name": "stdout",
          "text": [
            "['__add__', '__class__', '__class_getitem__', '__contains__', '__delattr__', '__delitem__', '__dir__', '__doc__', '__eq__', '__format__', '__ge__', '__getattribute__', '__getitem__', '__gt__', '__hash__', '__iadd__', '__imul__', '__init__', '__init_subclass__', '__iter__', '__le__', '__len__', '__lt__', '__mul__', '__ne__', '__new__', '__reduce__', '__reduce_ex__', '__repr__', '__reversed__', '__rmul__', '__setattr__', '__setitem__', '__sizeof__', '__str__', '__subclasshook__', 'append', 'clear', 'copy', 'count', 'extend', 'index', 'insert', 'pop', 'remove', 'reverse', 'sort']\n"
          ]
        },
        {
          "output_type": "execute_result",
          "data": {
            "text/plain": [
              "['apple', 'banana', 'mango', 'watermelon', 'cherry']"
            ]
          },
          "metadata": {},
          "execution_count": 7
        }
      ]
    },
    {
      "cell_type": "code",
      "source": [
        "\"\"\"'__add__', '__class__', '__class_getitem__', '__contains__', '__delattr__', '__delitem__', '__dir__', '__doc__', '__eq__', '__format__', '__ge__',\n",
        "'__getattribute__', '__getitem__', '__gt__', '__hash__', '__iadd__', '__imul__', '__init__', '__init_subclass__', '__iter__', '__le__', '__len__', '__lt__', '__mul__',\n",
        "'__ne__', '__new__', '__reduce__', '__reduce_ex__', '__repr__', '__reversed__', '__rmul__', '__setattr__', '__setitem__', '__sizeof__', '__str__', '__subclasshook__',\n",
        " 'append', 'clear', 'copy', 'count', 'extend', 'index', 'insert', 'pop', 'remove', 'reverse', 'sort']\"\"\"\n"
      ],
      "metadata": {
        "id": "VC716kI34YsC"
      },
      "execution_count": null,
      "outputs": []
    },
    {
      "cell_type": "code",
      "source": [
        "#how to add a item at particular index position?\n",
        "#insert(index,\"item_name\")\n",
        "l2=['apple', 'banana', 'mango', 'watermelon']\n",
        "l2.insert(2,\"melon\")\n",
        "print(l2)\n",
        "#can we insert multiple items at a time --> NO we can't because insert takes only 2 arguments"
      ],
      "metadata": {
        "id": "16WLMGLt4Yqt",
        "colab": {
          "base_uri": "https://localhost:8080/"
        },
        "outputId": "cc5c158b-c97b-46b4-f127-77924b7bfbd2"
      },
      "execution_count": null,
      "outputs": [
        {
          "output_type": "stream",
          "name": "stdout",
          "text": [
            "['apple', 'banana', 'melon', 'mango', 'watermelon']\n"
          ]
        }
      ]
    },
    {
      "cell_type": "code",
      "source": [
        "#Extend(collection name):- add multiple items in to the list\n",
        "#by default extend method add items at the end of the list\n",
        "l3=[1,2,3,4]\n",
        "l4=[5,6,7]\n",
        "l3.extend(l4)\n",
        "print(l3)\n",
        "l3.insert(0,\"berries\")\n",
        "l3"
      ],
      "metadata": {
        "id": "UXNCvjbwvKXQ",
        "colab": {
          "base_uri": "https://localhost:8080/"
        },
        "outputId": "25bb2313-59c1-4759-a5e5-2c1c2335f3f1"
      },
      "execution_count": null,
      "outputs": [
        {
          "output_type": "stream",
          "name": "stdout",
          "text": [
            "[1, 2, 3, 4, 5, 6, 7]\n"
          ]
        },
        {
          "output_type": "execute_result",
          "data": {
            "text/plain": [
              "['berries', 1, 2, 3, 4, 5, 6, 7]"
            ]
          },
          "metadata": {},
          "execution_count": 23
        }
      ]
    },
    {
      "cell_type": "markdown",
      "source": [
        "POP()"
      ],
      "metadata": {
        "id": "v62R4lF5K0TT"
      }
    },
    {
      "cell_type": "markdown",
      "source": [
        " Remove items from the list\n",
        " by default it removes last element from the list\n",
        " pop(index_position)"
      ],
      "metadata": {
        "id": "rCFdXs7bKksx"
      }
    },
    {
      "cell_type": "code",
      "source": [
        "p=[1, 2, 3, 4, 5, 6, 7]\n",
        "p.pop()\n",
        "p"
      ],
      "metadata": {
        "id": "rN878RKcvKUG",
        "colab": {
          "base_uri": "https://localhost:8080/"
        },
        "outputId": "04d8aff7-91f0-459f-e202-1c79728e1cf5"
      },
      "execution_count": null,
      "outputs": [
        {
          "output_type": "execute_result",
          "data": {
            "text/plain": [
              "[1, 2, 3, 4, 5, 6]"
            ]
          },
          "metadata": {},
          "execution_count": 35
        }
      ]
    },
    {
      "cell_type": "code",
      "source": [
        "#remove(item_name)\n",
        "p.remove(3)#it takes exactly one argument(0 given)\n",
        "p"
      ],
      "metadata": {
        "id": "yaXwy5aPvKNp",
        "colab": {
          "base_uri": "https://localhost:8080/"
        },
        "outputId": "09466274-fd24-4b20-dec5-986384617cf4"
      },
      "execution_count": null,
      "outputs": [
        {
          "output_type": "execute_result",
          "data": {
            "text/plain": [
              "[1, 2, 4, 5, 6]"
            ]
          },
          "metadata": {},
          "execution_count": 36
        }
      ]
    },
    {
      "cell_type": "code",
      "source": [
        "#how can remove the multiple items from the list?\n",
        "#use \"del collection_name[start_index:end_index]\"\n",
        "l8=['apple', 'banana', 'mango', 'watermelon']\n",
        "del l8[1:4]\n",
        "l8"
      ],
      "metadata": {
        "id": "NkAS4SIivKKe"
      },
      "execution_count": null,
      "outputs": []
    },
    {
      "cell_type": "code",
      "source": [
        "#how to clear entire data from l8\n",
        "l8.clear()\n",
        "l8\n"
      ],
      "metadata": {
        "id": "trtip1uavKEQ"
      },
      "execution_count": null,
      "outputs": []
    },
    {
      "cell_type": "code",
      "source": [
        "del l8\n",
        "l8"
      ],
      "metadata": {
        "id": "UtJ9AujwvKBE"
      },
      "execution_count": null,
      "outputs": []
    },
    {
      "cell_type": "code",
      "source": [
        "l9=[1,2,3,4,5,6,7,8,9,10]\n",
        "del l9[::2]#EVEN\n",
        "del l9[1::2]#ODD\n"
      ],
      "metadata": {
        "id": "mRDbxw3qvJ-B"
      },
      "execution_count": null,
      "outputs": []
    },
    {
      "cell_type": "markdown",
      "source": [
        "#Tuples"
      ],
      "metadata": {
        "id": "2gw5sOktQU85"
      }
    },
    {
      "cell_type": "code",
      "source": [
        "#what is tuple?\n",
        "#how can u define a tuple?\n",
        "#tuples can be declared in() each element in tuple in separated by(,)\n",
        "#tuple is defined as --> ordered,immutable,allows duplicates\n"
      ],
      "metadata": {
        "id": "0Ackz4yLvJ7P"
      },
      "execution_count": null,
      "outputs": []
    },
    {
      "cell_type": "code",
      "source": [
        "#Tuple allows duplicates\n",
        "t1 = ('kiwi', 'apple', 'banana', 'pineapple', 'orange', 'grapes','kiwi','apple')\n",
        "print(len(t1))\n",
        "print(type(t1))"
      ],
      "metadata": {
        "id": "U0JsFAZZvJ4B",
        "colab": {
          "base_uri": "https://localhost:8080/"
        },
        "outputId": "1789218a-2841-4ac8-af87-54c8a6ee0d73"
      },
      "execution_count": null,
      "outputs": [
        {
          "output_type": "stream",
          "name": "stdout",
          "text": [
            "8\n",
            "<class 'tuple'>\n"
          ]
        }
      ]
    },
    {
      "cell_type": "code",
      "source": [
        "#Tuple is ordered\n",
        "#ordered means each element in the tuple is having sequence of index position numbers\n",
        "print(t1[2])\n",
        "print(t1[-1])\n",
        "print(t1[2:6])\n",
        "print(t1[::2])\n",
        "print(t1[1::2])\n",
        "print(t1[::-1])"
      ],
      "metadata": {
        "id": "e7LP4sAWvJ0m"
      },
      "execution_count": null,
      "outputs": []
    },
    {
      "cell_type": "markdown",
      "source": [
        "Tuple is immutable --> we cannot replace,add,remove the items from the tuple"
      ],
      "metadata": {
        "id": "-pl4ssOrSdy6"
      }
    },
    {
      "cell_type": "code",
      "source": [
        "print(dir(t1))"
      ],
      "metadata": {
        "id": "nIxjlEPLvJxv",
        "colab": {
          "base_uri": "https://localhost:8080/"
        },
        "outputId": "374cede9-28f3-4772-847a-b29d4a82c27d"
      },
      "execution_count": null,
      "outputs": [
        {
          "output_type": "stream",
          "name": "stdout",
          "text": [
            "['__add__', '__class__', '__class_getitem__', '__contains__', '__delattr__', '__dir__', '__doc__', '__eq__', '__format__', '__ge__', '__getattribute__', '__getitem__', '__getnewargs__', '__gt__', '__hash__', '__init__', '__init_subclass__', '__iter__', '__le__', '__len__', '__lt__', '__mul__', '__ne__', '__new__', '__reduce__', '__reduce_ex__', '__repr__', '__rmul__', '__setattr__', '__sizeof__', '__str__', '__subclasshook__', 'count', 'index']\n"
          ]
        }
      ]
    },
    {
      "cell_type": "markdown",
      "source": [
        "# SET\n",
        "set is declared in {} and elements in the set is separated by  {,}"
      ],
      "metadata": {
        "id": "6e56w9xAS6j9"
      }
    },
    {
      "cell_type": "code",
      "source": [
        "#set is unordered,immutable,dont allow duplicates"
      ],
      "metadata": {
        "id": "2y7OAcOrRysX"
      },
      "execution_count": null,
      "outputs": []
    },
    {
      "cell_type": "code",
      "source": [
        "#set wont allow duplicates\n",
        "s1={1,2,3,4,5,67,1,2,3,4,9}\n",
        "len(s1)\n",
        "print(s1)\n",
        "type(s1)"
      ],
      "metadata": {
        "colab": {
          "base_uri": "https://localhost:8080/"
        },
        "id": "FcwmLsXNRyk4",
        "outputId": "1e6af53f-22d5-49af-ced5-81479cc4aaf6"
      },
      "execution_count": null,
      "outputs": [
        {
          "output_type": "stream",
          "name": "stdout",
          "text": [
            "{1, 2, 3, 4, 5, 67, 9}\n"
          ]
        },
        {
          "output_type": "execute_result",
          "data": {
            "text/plain": [
              "set"
            ]
          },
          "metadata": {},
          "execution_count": 1
        }
      ]
    },
    {
      "cell_type": "code",
      "source": [
        "#set is unordered\n",
        "s2={\"apple\",\"bananan\",\"kiwi\"}\n",
        "print(s2[0])  #'set' object is not subscriptable"
      ],
      "metadata": {
        "id": "MJ15Av9wRygB"
      },
      "execution_count": null,
      "outputs": []
    },
    {
      "cell_type": "markdown",
      "source": [
        "#set is immutable\n",
        "\n",
        "1. in sets we cannot replace or swap the items\n",
        "2. we can add the new items or data to the sets\n",
        "3. And we can remove the elements from the sets\n"
      ],
      "metadata": {
        "id": "jg-2A0t8NuLk"
      }
    },
    {
      "cell_type": "code",
      "source": [
        "#sets we cannot replace or swap the items\n",
        "s2={\"python\",\"java\",\"c++\",\"c\",\"c\",\"c\"}\n",
        "print(len(s2))\n",
        "s2[4]='R'#we cannot replace the items in the set because sets are unordered means items in the set doesn't have index position number\n",
        "s2"
      ],
      "metadata": {
        "id": "30pcKHoERyeJ",
        "colab": {
          "base_uri": "https://localhost:8080/"
        },
        "outputId": "0ad07981-2ae9-463a-e4e3-4f96ba0df27c"
      },
      "execution_count": null,
      "outputs": [
        {
          "output_type": "stream",
          "name": "stdout",
          "text": [
            "4\n"
          ]
        },
        {
          "output_type": "execute_result",
          "data": {
            "text/plain": [
              "{'c', 'c++', 'java', 'python'}"
            ]
          },
          "metadata": {},
          "execution_count": 8
        }
      ]
    },
    {
      "cell_type": "code",
      "source": [
        "#we can add the new items or data to the set\n",
        "print(dir(s2))\n",
        "\"\"\"['__and__', '__class__', '__class_getitem__', '__contains__', '__delattr__', '__dir__', '__doc__', '__eq__', '__format__',\n",
        "'__ge__', '__getattribute__', '__gt__', '__hash__', '__iand__', '__init__', '__init_subclass__', '__ior__', '__isub__', '__iter__',\n",
        " '__ixor__', '__le__', '__len__', '__lt__', '__ne__', '__new__', '__or__', '__rand__', '__reduce__', '__reduce_ex__', '__repr__', '__ror__',\n",
        " '__rsub__', '__rxor__', '__setattr__', '__sizeof__', '__str__', '__sub__', '__subclasshook__', '__xor__', 'add', 'clear', 'copy', 'difference',\n",
        "  'difference_update', 'discard', 'intersection', 'intersection_update', 'isdisjoint', 'issubset', 'issuperset', 'pop', 'remove', 'symmetric_difference',\n",
        "   'symmetric_difference_update', 'union', 'update']\"\"\"\n"
      ],
      "metadata": {
        "id": "fd3LfOOxRyaw",
        "colab": {
          "base_uri": "https://localhost:8080/"
        },
        "outputId": "09c55b1b-0474-43e6-d1d3-b9f95389f963"
      },
      "execution_count": null,
      "outputs": [
        {
          "output_type": "stream",
          "name": "stdout",
          "text": [
            "['__and__', '__class__', '__class_getitem__', '__contains__', '__delattr__', '__dir__', '__doc__', '__eq__', '__format__', '__ge__', '__getattribute__', '__gt__', '__hash__', '__iand__', '__init__', '__init_subclass__', '__ior__', '__isub__', '__iter__', '__ixor__', '__le__', '__len__', '__lt__', '__ne__', '__new__', '__or__', '__rand__', '__reduce__', '__reduce_ex__', '__repr__', '__ror__', '__rsub__', '__rxor__', '__setattr__', '__sizeof__', '__str__', '__sub__', '__subclasshook__', '__xor__', 'add', 'clear', 'copy', 'difference', 'difference_update', 'discard', 'intersection', 'intersection_update', 'isdisjoint', 'issubset', 'issuperset', 'pop', 'remove', 'symmetric_difference', 'symmetric_difference_update', 'union', 'update']\n"
          ]
        }
      ]
    },
    {
      "cell_type": "code",
      "source": [
        "#add()\n",
        "s3={2,1,3,4,5,6,7,8,9}\n",
        "s3.add(10)\n",
        "s3\n",
        "#can we add a string into set of numbers-- > YES\n",
        "s3.add('hello')\n",
        "s3"
      ],
      "metadata": {
        "id": "x2Mr-aNQRyYz",
        "colab": {
          "base_uri": "https://localhost:8080/"
        },
        "outputId": "830a14c1-8658-4e9f-ac46-1addf4110e53"
      },
      "execution_count": null,
      "outputs": [
        {
          "output_type": "execute_result",
          "data": {
            "text/plain": [
              "{1, 10, 2, 3, 4, 5, 6, 7, 8, 9, 'hello'}"
            ]
          },
          "metadata": {},
          "execution_count": 14
        }
      ]
    },
    {
      "cell_type": "code",
      "source": [
        "s4= {\"apple\",\"banana\",\"kiwi\"}\n",
        "s4.add('Cherries')#while using add() the items may add at anywhere in the set{}\n",
        "print(s4)"
      ],
      "metadata": {
        "colab": {
          "base_uri": "https://localhost:8080/"
        },
        "id": "rqhHRpnCQ5ny",
        "outputId": "748738ef-14ef-46ad-ef50-6cd1453fb734"
      },
      "execution_count": null,
      "outputs": [
        {
          "output_type": "stream",
          "name": "stdout",
          "text": [
            "{'Cherries', 'apple', 'banana', 'kiwi'}\n"
          ]
        }
      ]
    },
    {
      "cell_type": "code",
      "source": [
        "#how to add the multiple items in the set{}\n",
        "#what is the default index position when you add multiple items\n",
        "#no index positions bcoz it is unordered\n"
      ],
      "metadata": {
        "id": "u9cqakVsQ5lI"
      },
      "execution_count": null,
      "outputs": []
    },
    {
      "cell_type": "code",
      "source": [
        "#by using the \"update\"\n",
        "s4={'Cherries', 'apple', 'banana','kiwi'}\n",
        "s5={1,2,3,4,5,6}\n",
        "s4.update(s5)\n",
        "s4"
      ],
      "metadata": {
        "colab": {
          "base_uri": "https://localhost:8080/"
        },
        "id": "KT0gh4nAQ5iK",
        "outputId": "ae81999d-7e7f-4474-a945-1b19a5ae9ab8"
      },
      "execution_count": null,
      "outputs": [
        {
          "output_type": "execute_result",
          "data": {
            "text/plain": [
              "{1, 2, 3, 4, 5, 6, 'Cherries', 'apple', 'banana', 'kiwi'}"
            ]
          },
          "metadata": {},
          "execution_count": 25
        }
      ]
    },
    {
      "cell_type": "code",
      "source": [
        "#How to remove items from the set?\n",
        "s6={1, 2, 3, 4, 5, 6, 'Cherries', 'apple', 'banana', 'kiwi'}\n",
        "#'s6.pop()#pop() is a bad practice in set'\n"
      ],
      "metadata": {
        "colab": {
          "base_uri": "https://localhost:8080/"
        },
        "id": "rOgpbzjxQ5fd",
        "outputId": "2d21202d-5471-435b-ee44-e9035a95603c"
      },
      "execution_count": null,
      "outputs": [
        {
          "output_type": "execute_result",
          "data": {
            "text/plain": [
              "{1, 2, 3, 4, 5, 6, 'Cherries', 'apple', 'banana'}"
            ]
          },
          "metadata": {},
          "execution_count": 37
        }
      ]
    },
    {
      "cell_type": "code",
      "source": [
        "s6.remove('kiwi')#remove() takes only one argument\n",
        "s6"
      ],
      "metadata": {
        "colab": {
          "base_uri": "https://localhost:8080/",
          "height": 158
        },
        "id": "KilNQlvyU2Py",
        "outputId": "c047bd49-c10e-4a05-f03d-8c4c29f1e9dd"
      },
      "execution_count": null,
      "outputs": [
        {
          "output_type": "error",
          "ename": "KeyError",
          "evalue": "'kiwi'",
          "traceback": [
            "\u001b[0;31m---------------------------------------------------------------------------\u001b[0m",
            "\u001b[0;31mKeyError\u001b[0m                                  Traceback (most recent call last)",
            "\u001b[0;32m<ipython-input-38-43b9e767ed28>\u001b[0m in \u001b[0;36m<cell line: 1>\u001b[0;34m()\u001b[0m\n\u001b[0;32m----> 1\u001b[0;31m \u001b[0ms6\u001b[0m\u001b[0;34m.\u001b[0m\u001b[0mremove\u001b[0m\u001b[0;34m(\u001b[0m\u001b[0;34m'kiwi'\u001b[0m\u001b[0;34m)\u001b[0m\u001b[0;31m#remove() takes only one argument\u001b[0m\u001b[0;34m\u001b[0m\u001b[0;34m\u001b[0m\u001b[0m\n\u001b[0m\u001b[1;32m      2\u001b[0m \u001b[0ms6\u001b[0m\u001b[0;34m\u001b[0m\u001b[0;34m\u001b[0m\u001b[0m\n",
            "\u001b[0;31mKeyError\u001b[0m: 'kiwi'"
          ]
        }
      ]
    },
    {
      "cell_type": "code",
      "source": [
        "s6"
      ],
      "metadata": {
        "colab": {
          "base_uri": "https://localhost:8080/"
        },
        "id": "MEaNdPVcQ5cp",
        "outputId": "d7d35e2b-2ccc-4732-fd02-2d55002b329d"
      },
      "execution_count": null,
      "outputs": [
        {
          "output_type": "execute_result",
          "data": {
            "text/plain": [
              "{1, 2, 3, 4, 5, 6, 'Cherries', 'apple', 'banana'}"
            ]
          },
          "metadata": {},
          "execution_count": 30
        }
      ]
    },
    {
      "cell_type": "code",
      "source": [
        "#what is difference between \"remove()\" and \"discard()\"?\n",
        "#remove() if the item or data is present it removes otherwise it rises an error\n",
        "#discard() if the items present or not it wont rise an error\n",
        "6.discard(2)\n",
        "s6"
      ],
      "metadata": {
        "colab": {
          "base_uri": "https://localhost:8080/"
        },
        "id": "hHRARjpaQ5Zw",
        "outputId": "79882db6-597a-471d-8ed3-f5a460003dfc"
      },
      "execution_count": null,
      "outputs": [
        {
          "output_type": "execute_result",
          "data": {
            "text/plain": [
              "{1, 3, 4, 5, 6, 'Cherries', 'banana'}"
            ]
          },
          "metadata": {},
          "execution_count": 36
        }
      ]
    },
    {
      "cell_type": "code",
      "source": [
        "#can we delete the range of items from the set--> No\n",
        "#can we deleet entire set --> Yes\n",
        "del s7\n"
      ],
      "metadata": {
        "colab": {
          "base_uri": "https://localhost:8080/",
          "height": 176
        },
        "id": "tJHOxKoAQ5XL",
        "outputId": "b5f18a82-4461-4510-a823-ecce0d18955a"
      },
      "execution_count": null,
      "outputs": [
        {
          "output_type": "error",
          "ename": "NameError",
          "evalue": "name 's7' is not defined",
          "traceback": [
            "\u001b[0;31m---------------------------------------------------------------------------\u001b[0m",
            "\u001b[0;31mNameError\u001b[0m                                 Traceback (most recent call last)",
            "\u001b[0;32m<ipython-input-40-4b15adb394a5>\u001b[0m in \u001b[0;36m<cell line: 3>\u001b[0;34m()\u001b[0m\n\u001b[1;32m      1\u001b[0m \u001b[0;31m#can we delete the range of items from the set--> No\u001b[0m\u001b[0;34m\u001b[0m\u001b[0;34m\u001b[0m\u001b[0m\n\u001b[1;32m      2\u001b[0m \u001b[0;31m#can we deleet entire set --> Yes\u001b[0m\u001b[0;34m\u001b[0m\u001b[0;34m\u001b[0m\u001b[0m\n\u001b[0;32m----> 3\u001b[0;31m \u001b[0;32mdel\u001b[0m \u001b[0ms7\u001b[0m\u001b[0;34m\u001b[0m\u001b[0;34m\u001b[0m\u001b[0m\n\u001b[0m",
            "\u001b[0;31mNameError\u001b[0m: name 's7' is not defined"
          ]
        }
      ]
    },
    {
      "cell_type": "code",
      "source": [
        "s1={'a','b','c','d'}\n",
        "s2={'d','e','f','g'}\n",
        "s1.intersection(s2)\n",
        "s1.union(s2)"
      ],
      "metadata": {
        "colab": {
          "base_uri": "https://localhost:8080/"
        },
        "id": "ELk51iTbQ5Uf",
        "outputId": "165ab5b0-4b5c-470e-9e5c-b537eeacb710"
      },
      "execution_count": null,
      "outputs": [
        {
          "output_type": "execute_result",
          "data": {
            "text/plain": [
              "{'a', 'b', 'c', 'd', 'e', 'f', 'g'}"
            ]
          },
          "metadata": {},
          "execution_count": 1
        }
      ]
    },
    {
      "cell_type": "markdown",
      "source": [
        "# **Dictionary**"
      ],
      "metadata": {
        "id": "UxK0-9q6XXHG"
      }
    },
    {
      "cell_type": "code",
      "source": [
        "#what is dictionary?\n",
        "#how can we declare dictionary?\n",
        "#where we can store the data in dictionary?\n",
        "#Dictionary can be declared in {} each item is separated {,} comma\n",
        "#{key:value} pairs\n",
        "#Dictionary is unordered, it wont't allows the duplicates,mutable(changable)\n"
      ],
      "metadata": {
        "id": "tp6R-JpPQ5RR"
      },
      "execution_count": null,
      "outputs": []
    },
    {
      "cell_type": "code",
      "source": [
        "#Dictionary  wont't allows the duplicates\n",
        "d1={\"name\":\"Charan\",\n",
        "    \"age\":21,\n",
        "    \"mobile no\":9876543210,\n",
        "    \"Bike\":\"GT 650\",\n",
        "    \"Education\":\"Diploma\",\n",
        "    \"Education\":\"B.Tech\"}\n",
        "\n",
        "print(len(d1))\n",
        "print(type(d1))\n",
        "print(d1)"
      ],
      "metadata": {
        "id": "s-a_8GeEvJwG",
        "colab": {
          "base_uri": "https://localhost:8080/"
        },
        "outputId": "1e4ce9bd-d9bf-4aad-8522-313efc38e8d2"
      },
      "execution_count": null,
      "outputs": [
        {
          "output_type": "stream",
          "name": "stdout",
          "text": [
            "5\n",
            "<class 'dict'>\n",
            "{'name': 'Charan', 'age': 21, 'mobile no': 9876543210, 'Bike': 'GT 650', 'Education': 'B.Tech'}\n"
          ]
        }
      ]
    },
    {
      "cell_type": "code",
      "source": [
        "#how can we access the values from dictionary\n",
        "#by using key name\n",
        "print(d1['Bike'])\n",
        "\n",
        "#we cannot access the range of keys only one key we can access"
      ],
      "metadata": {
        "colab": {
          "base_uri": "https://localhost:8080/"
        },
        "id": "R6XBnuLTZo1d",
        "outputId": "0cfda54b-6d1f-4374-e7ff-84043b37329b"
      },
      "execution_count": null,
      "outputs": [
        {
          "output_type": "stream",
          "name": "stdout",
          "text": [
            "GT 650\n"
          ]
        }
      ]
    },
    {
      "cell_type": "markdown",
      "source": [
        "# Dictionary is mutable\n",
        "replace the items in dictionary"
      ],
      "metadata": {
        "id": "UPhBDxSabSmY"
      }
    },
    {
      "cell_type": "code",
      "source": [
        "d1['name']='V CHARAN'\n",
        "print(d1)"
      ],
      "metadata": {
        "colab": {
          "base_uri": "https://localhost:8080/"
        },
        "id": "P75n6uYRa4RR",
        "outputId": "a1ced038-f5de-4e66-8564-71b1c703f401"
      },
      "execution_count": null,
      "outputs": [
        {
          "output_type": "stream",
          "name": "stdout",
          "text": [
            "{'name': 'V CHARAN', 'age': 21, 'mobile no': 9876543210, 'Bike': 'GT 650', 'Education': 'B.Tech'}\n"
          ]
        }
      ]
    },
    {
      "cell_type": "code",
      "source": [
        "#2 . Add the new items to the dictionary\n",
        "d1['Addess']=\"Hyderabad\"\n",
        "d1"
      ],
      "metadata": {
        "colab": {
          "base_uri": "https://localhost:8080/"
        },
        "id": "guSBpum9a4OQ",
        "outputId": "0a3ae7a5-7c78-4261-ba56-578a0eb71bf1"
      },
      "execution_count": null,
      "outputs": [
        {
          "output_type": "execute_result",
          "data": {
            "text/plain": [
              "{'name': 'V CHARAN',\n",
              " 'age': 21,\n",
              " 'mobile no': 9876543210,\n",
              " 'Bike': 'GT 650',\n",
              " 'Education': 'B.Tech',\n",
              " 'Addess': 'Hyderabad'}"
            ]
          },
          "metadata": {},
          "execution_count": 59
        }
      ]
    },
    {
      "cell_type": "code",
      "source": [
        "#remove the items from d1\n",
        "print(dir(d1))"
      ],
      "metadata": {
        "colab": {
          "base_uri": "https://localhost:8080/"
        },
        "id": "wFfN-2F9a4KO",
        "outputId": "3b05afdc-79be-43b5-9644-2453ab3fd5b4"
      },
      "execution_count": null,
      "outputs": [
        {
          "output_type": "stream",
          "name": "stdout",
          "text": [
            "['__class__', '__class_getitem__', '__contains__', '__delattr__', '__delitem__', '__dir__', '__doc__', '__eq__', '__format__', '__ge__', '__getattribute__', '__getitem__', '__gt__', '__hash__', '__init__', '__init_subclass__', '__ior__', '__iter__', '__le__', '__len__', '__lt__', '__ne__', '__new__', '__or__', '__reduce__', '__reduce_ex__', '__repr__', '__reversed__', '__ror__', '__setattr__', '__setitem__', '__sizeof__', '__str__', '__subclasshook__', 'clear', 'copy', 'fromkeys', 'get', 'items', 'keys', 'pop', 'popitem', 'setdefault', 'update', 'values']\n"
          ]
        }
      ]
    },
    {
      "cell_type": "code",
      "source": [
        "\"\"\"['__class__', '__class_getitem__', '__contains__', '__delattr__', '__delitem__', '__dir__', '__doc__', '__eq__', '__format__', '__ge__', '__getattribute__',\n",
        "'__getitem__', '__gt__', '__hash__', '__init__', '__init_subclass__', '__ior__', '__iter__', '__le__', '__len__', '__lt__', '__ne__', '__new__', '__or__', '__reduce__',\n",
        "'__reduce_ex__', '__repr__', '__reversed__', '__ror__', '__setattr__','__setitem__', '__sizeof__', '__str__', '__subclasshook__',\n",
        "'clear', 'copy', 'fromkeys', 'get', 'items', 'keys', 'pop', 'popitem', 'setdefault', 'update', 'values']\"\"'\n"
      ],
      "metadata": {
        "id": "MLUlCUUYcbON"
      },
      "execution_count": null,
      "outputs": []
    },
    {
      "cell_type": "code",
      "source": [
        "#pop(key_name)\n",
        "d1.pop('age')\n",
        "d1\n"
      ],
      "metadata": {
        "colab": {
          "base_uri": "https://localhost:8080/"
        },
        "id": "Bl0Nc55XchHT",
        "outputId": "f838e03f-48c8-433c-dc21-9a5fd244918f"
      },
      "execution_count": null,
      "outputs": [
        {
          "output_type": "execute_result",
          "data": {
            "text/plain": [
              "{'name': 'V CHARAN',\n",
              " 'mobile no': 9876543210,\n",
              " 'Bike': 'GT 650',\n",
              " 'Education': 'B.Tech',\n",
              " 'Addess': 'Hyderabad'}"
            ]
          },
          "metadata": {},
          "execution_count": 63
        }
      ]
    },
    {
      "cell_type": "code",
      "source": [
        "#clear\n",
        "d1.clear()\n",
        "d1"
      ],
      "metadata": {
        "colab": {
          "base_uri": "https://localhost:8080/"
        },
        "id": "KssqRhOXchFc",
        "outputId": "20eea6f3-fcf5-4f3d-de82-ea76ce4b361e"
      },
      "execution_count": null,
      "outputs": [
        {
          "output_type": "execute_result",
          "data": {
            "text/plain": [
              "{}"
            ]
          },
          "metadata": {},
          "execution_count": 64
        }
      ]
    },
    {
      "cell_type": "code",
      "source": [
        "del d1\n",
        "d1"
      ],
      "metadata": {
        "colab": {
          "base_uri": "https://localhost:8080/",
          "height": 158
        },
        "id": "bCVxdgTZchDV",
        "outputId": "d1b610f6-c624-4e1c-86d4-ed6f62f2e854"
      },
      "execution_count": null,
      "outputs": [
        {
          "output_type": "error",
          "ename": "NameError",
          "evalue": "name 'd1' is not defined",
          "traceback": [
            "\u001b[0;31m---------------------------------------------------------------------------\u001b[0m",
            "\u001b[0;31mNameError\u001b[0m                                 Traceback (most recent call last)",
            "\u001b[0;32m<ipython-input-65-8a1cb67cb563>\u001b[0m in \u001b[0;36m<cell line: 2>\u001b[0;34m()\u001b[0m\n\u001b[1;32m      1\u001b[0m \u001b[0;32mdel\u001b[0m \u001b[0md1\u001b[0m\u001b[0;34m\u001b[0m\u001b[0;34m\u001b[0m\u001b[0m\n\u001b[0;32m----> 2\u001b[0;31m \u001b[0md1\u001b[0m\u001b[0;34m\u001b[0m\u001b[0;34m\u001b[0m\u001b[0m\n\u001b[0m",
            "\u001b[0;31mNameError\u001b[0m: name 'd1' is not defined"
          ]
        }
      ]
    },
    {
      "cell_type": "code",
      "source": [
        "d2={'name': 'V CHARAN',\n",
        " 'age': 21,\n",
        " 'mobile no': 9876543210,\n",
        " 'Bike': 'GT 650',\n",
        " 'Education': 'B.Tech',\n",
        " 'Addess': 'Hyderabad'}\n",
        "print(d2.keys())\n",
        "print(d2.values())\n",
        "print(d2.items())"
      ],
      "metadata": {
        "colab": {
          "base_uri": "https://localhost:8080/"
        },
        "id": "IZjXhXhAdROZ",
        "outputId": "ab6b04f3-0d2d-4c85-ca85-fcec11830dcf"
      },
      "execution_count": null,
      "outputs": [
        {
          "output_type": "stream",
          "name": "stdout",
          "text": [
            "dict_keys(['name', 'age', 'mobile no', 'Bike', 'Education', 'Addess'])\n",
            "dict_values(['V CHARAN', 21, 9876543210, 'GT 650', 'B.Tech', 'Hyderabad'])\n",
            "dict_items([('name', 'V CHARAN'), ('age', 21), ('mobile no', 9876543210), ('Bike', 'GT 650'), ('Education', 'B.Tech'), ('Addess', 'Hyderabad')])\n"
          ]
        }
      ]
    },
    {
      "cell_type": "code",
      "source": [
        "d2={'name': 'V CHARAN',\n",
        " 'age': 21,\n",
        " 'mobile no': 9876543210,\n",
        " 'Bike': 'GT 650',\n",
        " 'fruits':[\"mango\",\"apple\",\"kiwi\"]}\n",
        "#replace kiwi with water melon\n",
        "d2['fruits'][2]= \"watermelon\"\n",
        "d2"
      ],
      "metadata": {
        "colab": {
          "base_uri": "https://localhost:8080/"
        },
        "id": "7iTTQ-dFdfpR",
        "outputId": "0bca7c1e-f324-4395-a5c3-c03d2dfe6e09"
      },
      "execution_count": null,
      "outputs": [
        {
          "output_type": "execute_result",
          "data": {
            "text/plain": [
              "{'name': 'V CHARAN',\n",
              " 'age': 21,\n",
              " 'mobile no': 9876543210,\n",
              " 'Bike': 'GT 650',\n",
              " 'fruits': ['mango', 'apple', 'watermelon']}"
            ]
          },
          "metadata": {},
          "execution_count": 73
        }
      ]
    },
    {
      "cell_type": "code",
      "source": [
        "#remove apple and watermelon\n",
        "d2['fruits'].remove('apple')\n",
        "d2\n"
      ],
      "metadata": {
        "colab": {
          "base_uri": "https://localhost:8080/"
        },
        "id": "t7lSVjKoeLMq",
        "outputId": "f8fc67e2-61ed-45bb-df1d-26f374ed258e"
      },
      "execution_count": null,
      "outputs": [
        {
          "output_type": "execute_result",
          "data": {
            "text/plain": [
              "{'name': 'V CHARAN',\n",
              " 'age': 21,\n",
              " 'mobile no': 9876543210,\n",
              " 'Bike': 'GT 650',\n",
              " 'fruits': ['mango', 'watermelon']}"
            ]
          },
          "metadata": {},
          "execution_count": 76
        }
      ]
    },
    {
      "cell_type": "code",
      "source": [
        "d2['fruits'].pop(1)\n",
        "d2"
      ],
      "metadata": {
        "colab": {
          "base_uri": "https://localhost:8080/",
          "height": 158
        },
        "id": "4gdrLtpZeoS4",
        "outputId": "930acd4b-6cf2-4739-c782-0a4b4ccb6ac5"
      },
      "execution_count": null,
      "outputs": [
        {
          "output_type": "error",
          "ename": "NameError",
          "evalue": "name 'd2' is not defined",
          "traceback": [
            "\u001b[0;31m---------------------------------------------------------------------------\u001b[0m",
            "\u001b[0;31mNameError\u001b[0m                                 Traceback (most recent call last)",
            "\u001b[0;32m<ipython-input-1-d8162db6050c>\u001b[0m in \u001b[0;36m<cell line: 1>\u001b[0;34m()\u001b[0m\n\u001b[0;32m----> 1\u001b[0;31m \u001b[0md2\u001b[0m\u001b[0;34m[\u001b[0m\u001b[0;34m'fruits'\u001b[0m\u001b[0;34m]\u001b[0m\u001b[0;34m.\u001b[0m\u001b[0mpop\u001b[0m\u001b[0;34m(\u001b[0m\u001b[0;36m1\u001b[0m\u001b[0;34m)\u001b[0m\u001b[0;34m\u001b[0m\u001b[0;34m\u001b[0m\u001b[0m\n\u001b[0m\u001b[1;32m      2\u001b[0m \u001b[0md2\u001b[0m\u001b[0;34m\u001b[0m\u001b[0;34m\u001b[0m\u001b[0m\n",
            "\u001b[0;31mNameError\u001b[0m: name 'd2' is not defined"
          ]
        }
      ]
    },
    {
      "cell_type": "markdown",
      "source": [
        "# Brief of Collections\n",
        "\n",
        "**List** :- list is a ordered,mutable,allows the duplicates-->[ , ]\n",
        "\n",
        "adding methods :- append,insert(index,itemname),extend\n",
        "\n",
        "remove methods :- pop(),remove,del l[[:]],clear\n",
        "\n",
        "**Tuple** :- Tuple is ordered,immutable,allows the duplicates-->( , )\n",
        "\n",
        "**set** :-   unordered,immutable,doesnt allow duplicates-->{ , }\n",
        "\n",
        "adding method:- add,update\n",
        "\n",
        "remove method:- remove,discard,pop(bad practice),clear()\n",
        "\n",
        "**Dictionary** :- it is unordered,mutable,it wont allow the duplicates--> { , }\n",
        "\n",
        "--> key:value pairs\n",
        "--> replace if using specific keyname we can replace the items in dictionary\n",
        "\n",
        "--> adding items if you give new key name d1['new_key']=\"value\"\n",
        "\n",
        "--> remove methods :- pop(keyname),clear(),popitem()-remove end item in dict"
      ],
      "metadata": {
        "id": "-rTyaa_nYeLu"
      }
    },
    {
      "cell_type": "markdown",
      "source": [],
      "metadata": {
        "id": "79vuvJBOYhAM"
      }
    },
    {
      "cell_type": "code",
      "source": [
        "dic={'name': 'V CHARAN',\n",
        " 'age': 21,\n",
        " 'mobile no': 9876543210,\n",
        " 'Bike': 'GT 650',\n",
        " 'fruits': ['mango', 'apple', 'watermelon']}\n",
        "dic.popitem()\n",
        "print(dic)"
      ],
      "metadata": {
        "id": "AGnIh2qIfDD_",
        "colab": {
          "base_uri": "https://localhost:8080/"
        },
        "outputId": "82246d17-674c-47ed-ab1e-03ab40f98bac"
      },
      "execution_count": null,
      "outputs": [
        {
          "output_type": "stream",
          "name": "stdout",
          "text": [
            "{'name': 'V CHARAN', 'age': 21, 'mobile no': 9876543210, 'Bike': 'GT 650'}\n"
          ]
        }
      ]
    },
    {
      "cell_type": "markdown",
      "source": [
        "## Functions\n",
        "\n",
        "what is Function?\n",
        ">Function is a block of code which can be execute it when you call it\n",
        "\n",
        "what is the purpose of functions?\n",
        "\n",
        "> To avoid the duplicate codes\n"
      ],
      "metadata": {
        "id": "4IYF_7zeazkp"
      }
    },
    {
      "cell_type": "code",
      "source": [
        "#how to create a function ?\n",
        "\n",
        "#we are using () to call the function whenever we want\n",
        "#To create a function we use \"def\"--> means your defining a function\n",
        "\n",
        "def charan():\n",
        "  print(\"hello i am defining a function to test it\")\n",
        "#how to call the function\n",
        "charan()\n"
      ],
      "metadata": {
        "colab": {
          "base_uri": "https://localhost:8080/"
        },
        "id": "grPRcI2IVotM",
        "outputId": "ccefa43d-43c6-4950-8a1b-b069fd3a81f3"
      },
      "execution_count": null,
      "outputs": [
        {
          "output_type": "stream",
          "name": "stdout",
          "text": [
            "hello i am defining a function to test it\n"
          ]
        }
      ]
    },
    {
      "cell_type": "code",
      "source": [
        "#parameters : parameters are nothing but variables .we will give arguments when we call the function\n",
        "def details(name,age,Education):\n",
        "  print(f\"Hi {name},please check your details,age {age},Education {education}\")\n",
        "\n",
        "details(\"Charan\",21,\"B tech\")"
      ],
      "metadata": {
        "colab": {
          "base_uri": "https://localhost:8080/"
        },
        "id": "oCZKTm1hVooM",
        "outputId": "02aa4196-1bad-47bc-9f12-78cb8b204bcb"
      },
      "execution_count": null,
      "outputs": [
        {
          "output_type": "stream",
          "name": "stdout",
          "text": [
            "Hi Charan,please check your details,age 21,Education B tech\n"
          ]
        }
      ]
    },
    {
      "cell_type": "code",
      "source": [
        "#what is a parameter?\n",
        "#when we are defining a funtion we are creating varaibles which are known as parameters\n",
        "#what is an argument?\n",
        "#when your calling a function your passing some values which are known as arguments\n",
        "#note : when you are calling a function No of parameters == no of arguments,if there is any mismatch it rise an error"
      ],
      "metadata": {
        "id": "4Z3siyMifKe9"
      },
      "execution_count": null,
      "outputs": []
    },
    {
      "cell_type": "code",
      "source": [
        "def check_number(num):\n",
        "  if num%2==0:\n",
        "    print(f\"given number {num} is even\")\n",
        "  else:\n",
        "    print(f\"given number {num} is odd\")\n",
        "a=int(input(\"Enter the number :\"))\n",
        "check_number(a)"
      ],
      "metadata": {
        "colab": {
          "base_uri": "https://localhost:8080/"
        },
        "id": "3wxFk5DFVoit",
        "outputId": "b6d74a68-7001-430d-bbd6-0f15e4a4ad6c"
      },
      "execution_count": null,
      "outputs": [
        {
          "output_type": "stream",
          "name": "stdout",
          "text": [
            "Enter the number :741\n",
            "given number 741 is odd\n"
          ]
        }
      ]
    },
    {
      "cell_type": "code",
      "source": [
        "b=int(input())\n",
        "check_number(b)"
      ],
      "metadata": {
        "colab": {
          "base_uri": "https://localhost:8080/"
        },
        "id": "eLmyuTpiVodD",
        "outputId": "cb4cc964-f3f5-4c6f-976b-c00328bf8c47"
      },
      "execution_count": null,
      "outputs": [
        {
          "output_type": "stream",
          "name": "stdout",
          "text": [
            "656\n",
            "given number 656 is even\n"
          ]
        }
      ]
    },
    {
      "cell_type": "code",
      "source": [
        "def pos(num):\n",
        "  if num>0:\n",
        "    print(f\"the given number {num} is positive\")\n",
        "  elif num==0:\n",
        "    print(f\"the given number {num} is Neutral\")\n",
        "  else:\n",
        "    print(f\"the given number {num} is negative\")\n",
        "a=int(input(\"Enter the number :\"))\n",
        "pos(a)"
      ],
      "metadata": {
        "colab": {
          "base_uri": "https://localhost:8080/"
        },
        "id": "10ieKGqDVoWX",
        "outputId": "2a7db39d-9eee-4dac-8caa-aa8bf5aa1eed"
      },
      "execution_count": null,
      "outputs": [
        {
          "output_type": "stream",
          "name": "stdout",
          "text": [
            "Enter the number :77\n",
            "the given number 77 is positive\n"
          ]
        }
      ]
    },
    {
      "cell_type": "code",
      "source": [
        "#default function\n",
        "#ARGS & KWARGS\n",
        "#Testcases-->5\n",
        "#LC"
      ],
      "metadata": {
        "id": "t9-Rcd0ZVoOV"
      },
      "execution_count": null,
      "outputs": []
    },
    {
      "cell_type": "markdown",
      "source": [
        "Default **Function**\n",
        "\n",
        "when you are defining the function we are creating variables which are known as parameters.\n",
        "so, to this parameters we are assingning a value from this when you call a function without\n",
        "passing an argument it executes  the function with default value we have given"
      ],
      "metadata": {
        "id": "whzmR-cYLIol"
      }
    },
    {
      "cell_type": "code",
      "source": [
        "def f1(x=\"No arguement given\"):\n",
        "  print(x)\n",
        "f1()\n",
        "\n",
        "\n"
      ],
      "metadata": {
        "colab": {
          "base_uri": "https://localhost:8080/"
        },
        "id": "Q-ZoiIbwLSqF",
        "outputId": "cc683f37-8471-4e10-a4e7-0b7fd288f701"
      },
      "execution_count": null,
      "outputs": [
        {
          "output_type": "stream",
          "name": "stdout",
          "text": [
            "No arguement given\n"
          ]
        }
      ]
    },
    {
      "cell_type": "code",
      "source": [
        "#what can i do when i dont know how many parameters do we need to pass?\n",
        "def details(**name):\n",
        "  print(name)\n",
        "\n",
        "details(name=\"zenvius\", Type = \"pvt ltd\", work = 'IT Training and staffing',place= 'hyderabad')"
      ],
      "metadata": {
        "colab": {
          "base_uri": "https://localhost:8080/"
        },
        "id": "eDtHmdE6LTbk",
        "outputId": "2ef6e055-ec7d-42b9-ca48-c9532c78aec3"
      },
      "execution_count": null,
      "outputs": [
        {
          "output_type": "stream",
          "name": "stdout",
          "text": [
            "{'name': 'zenvius', 'Type': 'pvt ltd', 'work': 'IT Training and staffing', 'place': 'hyderabad'}\n"
          ]
        }
      ]
    },
    {
      "cell_type": "code",
      "source": [
        "##what can i do when i dont know how many Arguments do we need to pass?\n",
        "def prog_language(*name):\n",
        "  print(name)\n",
        "prog_language('python','java','c++')\n",
        "prog_language('python','java','c++','c')"
      ],
      "metadata": {
        "colab": {
          "base_uri": "https://localhost:8080/"
        },
        "id": "poCGyMalLTX0",
        "outputId": "03c8ddbb-7cc5-4d5f-99ec-f48fcb1844ac"
      },
      "execution_count": null,
      "outputs": [
        {
          "output_type": "stream",
          "name": "stdout",
          "text": [
            "('python', 'java', 'c++')\n",
            "('python', 'java', 'c++', 'c')\n"
          ]
        }
      ]
    },
    {
      "cell_type": "markdown",
      "source": [
        "**--> KWARGS--> Keyword arbitraray arguments-->when we dont know how many parameters do we need to pass use KWARGS\n",
        "                                                \n",
        "             -->we can able set what of data we are passing BCZ\n",
        "                by default the data is stored on the form of \"dictionary\"\n",
        "\n",
        "*--> ARGS---> Arbitrary arguments-->when we dont know how many parameters do we\n",
        "                                        need to pass use ARGS\n",
        "                                      \n",
        "                                   --> default data type for ARGS is Tuple"
      ],
      "metadata": {
        "id": "WQykxZqqRwFu"
      }
    },
    {
      "cell_type": "markdown",
      "source": [
        "**RETURN**\n",
        "\n",
        "--> return keyword returns or send back the values to the caller\n",
        "--> it  is similar to the print statement\n",
        "--> when you are using return we need to call the function with print( )\n"
      ],
      "metadata": {
        "id": "wEhazn-CSe-i"
      }
    },
    {
      "cell_type": "code",
      "source": [
        "def f1():\n",
        "  return\"hello\"\n",
        "print(f1())"
      ],
      "metadata": {
        "colab": {
          "base_uri": "https://localhost:8080/"
        },
        "id": "4Y9nO6wALTUS",
        "outputId": "07699401-39f6-4215-b6fa-4c5e19fc4a29"
      },
      "execution_count": null,
      "outputs": [
        {
          "output_type": "stream",
          "name": "stdout",
          "text": [
            "hello\n"
          ]
        }
      ]
    },
    {
      "cell_type": "code",
      "source": [
        "l=[20,30,40,50]\n",
        "sum=0\n",
        "for i in l:\n",
        "  sum=sum+i\n",
        "print(sum)\n",
        "\n"
      ],
      "metadata": {
        "colab": {
          "base_uri": "https://localhost:8080/"
        },
        "id": "J2F8zTn3LTQ7",
        "outputId": "68469f31-cf80-4433-bbe7-fdc9d200326e"
      },
      "execution_count": null,
      "outputs": [
        {
          "output_type": "stream",
          "name": "stdout",
          "text": [
            "140\n"
          ]
        }
      ]
    },
    {
      "cell_type": "code",
      "source": [
        "def sum_items():\n",
        "  sum=0\n",
        "  for i in l:\n",
        "    sum=sum+i\n",
        "  return sum\n",
        "print(sum_items())\n"
      ],
      "metadata": {
        "colab": {
          "base_uri": "https://localhost:8080/"
        },
        "id": "nER2wz1ELTMw",
        "outputId": "25927b4c-4133-4fda-c91f-8380ecb40919"
      },
      "execution_count": null,
      "outputs": [
        {
          "output_type": "stream",
          "name": "stdout",
          "text": [
            "30\n"
          ]
        }
      ]
    },
    {
      "cell_type": "code",
      "source": [
        "def sum_items(*number):  #args (*)\n",
        "  sum = 0\n",
        "  for i in l:\n",
        "    sum = sum + i\n",
        "  return(sum)\n",
        "print(sum_items(9,15,30))"
      ],
      "metadata": {
        "colab": {
          "base_uri": "https://localhost:8080/",
          "height": 402
        },
        "id": "Xfr4XVkCLTI1",
        "outputId": "87a5e1d1-88ba-4f34-f89e-3035bf37aaec"
      },
      "execution_count": null,
      "outputs": [
        {
          "output_type": "error",
          "ename": "NameError",
          "evalue": "name 'l' is not defined",
          "traceback": [
            "\u001b[0;31m---------------------------------------------------------------------------\u001b[0m",
            "\u001b[0;31mNameError\u001b[0m                                 Traceback (most recent call last)",
            "\u001b[0;32m<ipython-input-4-2bc47bf5db95>\u001b[0m in \u001b[0;36m<cell line: 6>\u001b[0;34m()\u001b[0m\n\u001b[1;32m      4\u001b[0m     \u001b[0msum\u001b[0m \u001b[0;34m=\u001b[0m \u001b[0msum\u001b[0m \u001b[0;34m+\u001b[0m \u001b[0mi\u001b[0m\u001b[0;34m\u001b[0m\u001b[0;34m\u001b[0m\u001b[0m\n\u001b[1;32m      5\u001b[0m   \u001b[0;32mreturn\u001b[0m\u001b[0;34m(\u001b[0m\u001b[0msum\u001b[0m\u001b[0;34m)\u001b[0m\u001b[0;34m\u001b[0m\u001b[0;34m\u001b[0m\u001b[0m\n\u001b[0;32m----> 6\u001b[0;31m \u001b[0mprint\u001b[0m\u001b[0;34m(\u001b[0m\u001b[0msum_items\u001b[0m\u001b[0;34m(\u001b[0m\u001b[0;36m9\u001b[0m\u001b[0;34m,\u001b[0m\u001b[0;36m15\u001b[0m\u001b[0;34m,\u001b[0m\u001b[0;36m30\u001b[0m\u001b[0;34m)\u001b[0m\u001b[0;34m)\u001b[0m\u001b[0;34m\u001b[0m\u001b[0;34m\u001b[0m\u001b[0m\n\u001b[0m",
            "\u001b[0;32m<ipython-input-4-2bc47bf5db95>\u001b[0m in \u001b[0;36msum_items\u001b[0;34m(*number)\u001b[0m\n\u001b[1;32m      1\u001b[0m \u001b[0;32mdef\u001b[0m \u001b[0msum_items\u001b[0m\u001b[0;34m(\u001b[0m\u001b[0;34m*\u001b[0m\u001b[0mnumber\u001b[0m\u001b[0;34m)\u001b[0m\u001b[0;34m:\u001b[0m  \u001b[0;31m#args (*)\u001b[0m\u001b[0;34m\u001b[0m\u001b[0;34m\u001b[0m\u001b[0m\n\u001b[1;32m      2\u001b[0m   \u001b[0msum\u001b[0m \u001b[0;34m=\u001b[0m \u001b[0;36m0\u001b[0m\u001b[0;34m\u001b[0m\u001b[0;34m\u001b[0m\u001b[0m\n\u001b[0;32m----> 3\u001b[0;31m   \u001b[0;32mfor\u001b[0m \u001b[0mi\u001b[0m \u001b[0;32min\u001b[0m \u001b[0ml\u001b[0m\u001b[0;34m:\u001b[0m\u001b[0;34m\u001b[0m\u001b[0;34m\u001b[0m\u001b[0m\n\u001b[0m\u001b[1;32m      4\u001b[0m     \u001b[0msum\u001b[0m \u001b[0;34m=\u001b[0m \u001b[0msum\u001b[0m \u001b[0;34m+\u001b[0m \u001b[0mi\u001b[0m\u001b[0;34m\u001b[0m\u001b[0;34m\u001b[0m\u001b[0m\n\u001b[1;32m      5\u001b[0m   \u001b[0;32mreturn\u001b[0m\u001b[0;34m(\u001b[0m\u001b[0msum\u001b[0m\u001b[0;34m)\u001b[0m\u001b[0;34m\u001b[0m\u001b[0;34m\u001b[0m\u001b[0m\n",
            "\u001b[0;31mNameError\u001b[0m: name 'l' is not defined"
          ]
        }
      ]
    },
    {
      "cell_type": "code",
      "source": [
        "#wap a python fn that takes a list and returns a distinct list\n",
        "l1=[1,1,12,3,3,2,2,1,1,5,5,6,8,4,4,5,62,8,8,9]\n",
        "x=[]\n",
        "for i in l1:\n",
        "  if i not in x:\n",
        "    x.append(i)\n",
        "print(x)\n",
        "\n"
      ],
      "metadata": {
        "colab": {
          "base_uri": "https://localhost:8080/"
        },
        "id": "AUJjLV_KLTHC",
        "outputId": "87e93627-e20a-4885-fc8e-7273c9ac13ed"
      },
      "execution_count": null,
      "outputs": [
        {
          "output_type": "stream",
          "name": "stdout",
          "text": [
            "[1, 12, 3, 2, 5, 6, 8, 4, 62, 9]\n"
          ]
        }
      ]
    },
    {
      "cell_type": "code",
      "source": [
        "def checkk(*l1):\n",
        "  x=[]\n",
        "  for i in l1:\n",
        "    if i not in x:\n",
        "      x.append(i)\n",
        "  return(x)\n",
        "print(checkk(98,99,97,96,95,94,93,92,92))"
      ],
      "metadata": {
        "colab": {
          "base_uri": "https://localhost:8080/"
        },
        "id": "uNI7smByLTFA",
        "outputId": "7b72e1e3-ed74-4bbb-d659-d86cba45b52e"
      },
      "execution_count": null,
      "outputs": [
        {
          "output_type": "stream",
          "name": "stdout",
          "text": [
            "[98, 99, 97, 96, 95, 94, 93, 92]\n"
          ]
        }
      ]
    },
    {
      "cell_type": "code",
      "source": [],
      "metadata": {
        "id": "YZB6kYkGZRFc"
      },
      "execution_count": null,
      "outputs": []
    },
    {
      "cell_type": "code",
      "source": [],
      "metadata": {
        "id": "Sz48ApQXaLRq"
      },
      "execution_count": null,
      "outputs": []
    },
    {
      "cell_type": "code",
      "source": [],
      "metadata": {
        "id": "KBehvInKaLPa"
      },
      "execution_count": null,
      "outputs": []
    },
    {
      "cell_type": "code",
      "source": [],
      "metadata": {
        "id": "2GCCD8yjaLLT"
      },
      "execution_count": null,
      "outputs": []
    },
    {
      "cell_type": "code",
      "source": [],
      "metadata": {
        "id": "iw1zxRceaLJH"
      },
      "execution_count": null,
      "outputs": []
    },
    {
      "cell_type": "code",
      "source": [],
      "metadata": {
        "id": "jlsvxc6daKpL"
      },
      "execution_count": null,
      "outputs": []
    },
    {
      "cell_type": "code",
      "source": [],
      "metadata": {
        "id": "HK2fesWdaKnA"
      },
      "execution_count": null,
      "outputs": []
    },
    {
      "cell_type": "code",
      "source": [],
      "metadata": {
        "id": "yjUI3UzpaKk0"
      },
      "execution_count": null,
      "outputs": []
    },
    {
      "cell_type": "code",
      "source": [],
      "metadata": {
        "id": "QMWnPEqbaKhO"
      },
      "execution_count": null,
      "outputs": []
    },
    {
      "cell_type": "code",
      "source": [],
      "metadata": {
        "id": "uJUyfgflaKfF"
      },
      "execution_count": null,
      "outputs": []
    }
  ]
}